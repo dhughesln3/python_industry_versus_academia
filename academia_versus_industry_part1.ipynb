{
 "cells": [
  {
   "cell_type": "markdown",
   "metadata": {},
   "source": [
    "# Comparison of Academia and Industry for Graduate Students"
   ]
  },
  {
   "cell_type": "markdown",
   "metadata": {},
   "source": [
    "Roughly how well does pay for professors reflect market demand for PhDs? More vaguely: is it worth staying in academia? The second question is much harder to answer - and is a good topic for another blog post! The first we hope to partially answer below. We are going to look at the average pay of a full professor (courtesy of the College and University Professional Association for Human Resources) versus the median pay for (fully-employed) graduate students fresh out of grad school (courtesy of the American Community Survey 2010-2012 Public Use Microdata Series via fivethirtyeight). Note that we are comapring means with medians, so we have to be a bit wary of any conclusions drawn, although it is likely a fair assumption that the professor salaries are normally distributed (it only consists of fully tenured professors) and so their medians and means ought to be similar.\n",
    "\n",
    "Now, the relationship between these two datasets may be nonlinear (wages in different sectors of the economy probably differ in terms of scaling, entry-level pay, etc.), so we will ask two specific questions:\n",
    "\n",
    "1. Is the order in which universities rank professor salaries similar to the order in which industry ranks recent PhD salaries the same?\n",
    "\n",
    "\n",
    "2. Are the distributions of average salaries similar in industry versus academia?"
   ]
  },
  {
   "cell_type": "markdown",
   "metadata": {},
   "source": [
    "As usual, we will use the pandas package for python:"
   ]
  },
  {
   "cell_type": "code",
   "execution_count": 1,
   "metadata": {},
   "outputs": [],
   "source": [
    "import pandas as pd"
   ]
  },
  {
   "cell_type": "markdown",
   "metadata": {},
   "source": [
    "We will also need a package to read the messier pdf from CUPAHR. We will use tabula:"
   ]
  },
  {
   "cell_type": "code",
   "execution_count": 2,
   "metadata": {},
   "outputs": [],
   "source": [
    "from tabula import read_pdf"
   ]
  },
  {
   "cell_type": "markdown",
   "metadata": {},
   "source": [
    "Now, due to some white space errors, we will need to deal with page 3 of this pdf separately. First we import the other pages (1, 2 and 4) into a dataframe:"
   ]
  },
  {
   "cell_type": "code",
   "execution_count": 3,
   "metadata": {},
   "outputs": [],
   "source": [
    "tables = read_pdf('https://www.cupahr.org/wp-content/uploads/2017/07/FHE-2016-2-Digit-Average-Salaries-Tenured-and-Tenure-Track.pdf', pages='1,2,4')"
   ]
  },
  {
   "cell_type": "code",
   "execution_count": 4,
   "metadata": {},
   "outputs": [
    {
     "data": {
      "text/html": [
       "<div>\n",
       "<style scoped>\n",
       "    .dataframe tbody tr th:only-of-type {\n",
       "        vertical-align: middle;\n",
       "    }\n",
       "\n",
       "    .dataframe tbody tr th {\n",
       "        vertical-align: top;\n",
       "    }\n",
       "\n",
       "    .dataframe thead th {\n",
       "        text-align: right;\n",
       "    }\n",
       "</style>\n",
       "<table border=\"1\" class=\"dataframe\">\n",
       "  <thead>\n",
       "    <tr style=\"text-align: right;\">\n",
       "      <th></th>\n",
       "      <th>Unnamed: 0</th>\n",
       "      <th>Unweighted Average Salary</th>\n",
       "    </tr>\n",
       "  </thead>\n",
       "  <tbody>\n",
       "    <tr>\n",
       "      <th>0</th>\n",
       "      <td>Discipline and Rank</td>\n",
       "      <td>All Public Private</td>\n",
       "    </tr>\n",
       "    <tr>\n",
       "      <th>1</th>\n",
       "      <td>[01.] AGRICULTURE, AGRICULTURE OPERATIONS, AND...</td>\n",
       "      <td>NaN</td>\n",
       "    </tr>\n",
       "    <tr>\n",
       "      <th>2</th>\n",
       "      <td>Professor</td>\n",
       "      <td>102,328 102,691 96,185</td>\n",
       "    </tr>\n",
       "    <tr>\n",
       "      <th>3</th>\n",
       "      <td>Associate Professor</td>\n",
       "      <td>79,433 79,822 73,870</td>\n",
       "    </tr>\n",
       "    <tr>\n",
       "      <th>4</th>\n",
       "      <td>Assistant Professor</td>\n",
       "      <td>70,273 71,230 59,673</td>\n",
       "    </tr>\n",
       "    <tr>\n",
       "      <th>5</th>\n",
       "      <td>New Assistant Professor</td>\n",
       "      <td>72,135 72,581 *</td>\n",
       "    </tr>\n",
       "    <tr>\n",
       "      <th>6</th>\n",
       "      <td>Instructor</td>\n",
       "      <td>* * *</td>\n",
       "    </tr>\n",
       "    <tr>\n",
       "      <th>7</th>\n",
       "      <td>[03.] NATURAL RESOURCES AND CONSERVATION</td>\n",
       "      <td>NaN</td>\n",
       "    </tr>\n",
       "    <tr>\n",
       "      <th>8</th>\n",
       "      <td>Professor</td>\n",
       "      <td>100,200 100,512 98,627</td>\n",
       "    </tr>\n",
       "    <tr>\n",
       "      <th>9</th>\n",
       "      <td>Associate Professor</td>\n",
       "      <td>77,234 76,847 78,718</td>\n",
       "    </tr>\n",
       "  </tbody>\n",
       "</table>\n",
       "</div>"
      ],
      "text/plain": [
       "                                          Unnamed: 0 Unweighted Average Salary\n",
       "0                                Discipline and Rank        All Public Private\n",
       "1  [01.] AGRICULTURE, AGRICULTURE OPERATIONS, AND...                       NaN\n",
       "2                                          Professor    102,328 102,691 96,185\n",
       "3                                Associate Professor      79,433 79,822 73,870\n",
       "4                                Assistant Professor      70,273 71,230 59,673\n",
       "5                            New Assistant Professor           72,135 72,581 *\n",
       "6                                         Instructor                     * * *\n",
       "7           [03.] NATURAL RESOURCES AND CONSERVATION                       NaN\n",
       "8                                          Professor    100,200 100,512 98,627\n",
       "9                                Associate Professor      77,234 76,847 78,718"
      ]
     },
     "execution_count": 4,
     "metadata": {},
     "output_type": "execute_result"
    }
   ],
   "source": [
    "tables.head(10)"
   ]
  },
  {
   "cell_type": "code",
   "execution_count": 5,
   "metadata": {},
   "outputs": [],
   "source": [
    "tables_bad = read_pdf('https://www.cupahr.org/wp-content/uploads/2017/07/FHE-2016-2-Digit-Average-Salaries-Tenured-and-Tenure-Track.pdf', pages='3')"
   ]
  },
  {
   "cell_type": "code",
   "execution_count": 6,
   "metadata": {},
   "outputs": [
    {
     "data": {
      "text/html": [
       "<div>\n",
       "<style scoped>\n",
       "    .dataframe tbody tr th:only-of-type {\n",
       "        vertical-align: middle;\n",
       "    }\n",
       "\n",
       "    .dataframe tbody tr th {\n",
       "        vertical-align: top;\n",
       "    }\n",
       "\n",
       "    .dataframe thead th {\n",
       "        text-align: right;\n",
       "    }\n",
       "</style>\n",
       "<table border=\"1\" class=\"dataframe\">\n",
       "  <thead>\n",
       "    <tr style=\"text-align: right;\">\n",
       "      <th></th>\n",
       "      <th>Unnamed: 0</th>\n",
       "      <th>Unnamed: 1</th>\n",
       "      <th>Unweighted Average Salary</th>\n",
       "    </tr>\n",
       "  </thead>\n",
       "  <tbody>\n",
       "    <tr>\n",
       "      <th>0</th>\n",
       "      <td>NaN</td>\n",
       "      <td>Discipline and Rank</td>\n",
       "      <td>All Public Private</td>\n",
       "    </tr>\n",
       "    <tr>\n",
       "      <th>1</th>\n",
       "      <td>[30.] MULTI/INTERDISCIPLINARY STUDIES</td>\n",
       "      <td>NaN</td>\n",
       "      <td>NaN</td>\n",
       "    </tr>\n",
       "    <tr>\n",
       "      <th>2</th>\n",
       "      <td>Professor</td>\n",
       "      <td>NaN</td>\n",
       "      <td>105,855 111,614 96,907</td>\n",
       "    </tr>\n",
       "    <tr>\n",
       "      <th>3</th>\n",
       "      <td>Associate Professor</td>\n",
       "      <td>NaN</td>\n",
       "      <td>79,387 81,362 77,121</td>\n",
       "    </tr>\n",
       "    <tr>\n",
       "      <th>4</th>\n",
       "      <td>Assistant Professor</td>\n",
       "      <td>NaN</td>\n",
       "      <td>65,466 65,423 65,514</td>\n",
       "    </tr>\n",
       "    <tr>\n",
       "      <th>5</th>\n",
       "      <td>New Assistant Professor</td>\n",
       "      <td>NaN</td>\n",
       "      <td>61,493 61,661 61,289</td>\n",
       "    </tr>\n",
       "    <tr>\n",
       "      <th>6</th>\n",
       "      <td>Instructor</td>\n",
       "      <td>NaN</td>\n",
       "      <td>49,855 * *</td>\n",
       "    </tr>\n",
       "    <tr>\n",
       "      <th>7</th>\n",
       "      <td>[31.] PARKS, RECREATION, LEISURE AND FITNESS S...</td>\n",
       "      <td>NaN</td>\n",
       "      <td>NaN</td>\n",
       "    </tr>\n",
       "    <tr>\n",
       "      <th>8</th>\n",
       "      <td>Professor</td>\n",
       "      <td>NaN</td>\n",
       "      <td>89,281 91,035 85,096</td>\n",
       "    </tr>\n",
       "    <tr>\n",
       "      <th>9</th>\n",
       "      <td>Associate Professor</td>\n",
       "      <td>NaN</td>\n",
       "      <td>70,977 71,834 69,411</td>\n",
       "    </tr>\n",
       "  </tbody>\n",
       "</table>\n",
       "</div>"
      ],
      "text/plain": [
       "                                          Unnamed: 0           Unnamed: 1  \\\n",
       "0                                                NaN  Discipline and Rank   \n",
       "1              [30.] MULTI/INTERDISCIPLINARY STUDIES                  NaN   \n",
       "2                                          Professor                  NaN   \n",
       "3                                Associate Professor                  NaN   \n",
       "4                                Assistant Professor                  NaN   \n",
       "5                            New Assistant Professor                  NaN   \n",
       "6                                         Instructor                  NaN   \n",
       "7  [31.] PARKS, RECREATION, LEISURE AND FITNESS S...                  NaN   \n",
       "8                                          Professor                  NaN   \n",
       "9                                Associate Professor                  NaN   \n",
       "\n",
       "  Unweighted Average Salary  \n",
       "0        All Public Private  \n",
       "1                       NaN  \n",
       "2    105,855 111,614 96,907  \n",
       "3      79,387 81,362 77,121  \n",
       "4      65,466 65,423 65,514  \n",
       "5      61,493 61,661 61,289  \n",
       "6                49,855 * *  \n",
       "7                       NaN  \n",
       "8      89,281 91,035 85,096  \n",
       "9      70,977 71,834 69,411  "
      ]
     },
     "execution_count": 6,
     "metadata": {},
     "output_type": "execute_result"
    }
   ],
   "source": [
    "tables_bad.head(10)"
   ]
  },
  {
   "cell_type": "markdown",
   "metadata": {},
   "source": [
    "It has accidentally created an unwanted extra column. We will deal with this later. The second column of the first table has the salaries we want, as well as salaries for more junior faculty. We are going to throw this away as it is not quite what we are looking for (it varies too much based on teaching needs of institutions)."
   ]
  },
  {
   "cell_type": "code",
   "execution_count": 7,
   "metadata": {},
   "outputs": [
    {
     "data": {
      "text/plain": [
       "'72,135 72,581 *'"
      ]
     },
     "execution_count": 7,
     "metadata": {},
     "output_type": "execute_result"
    }
   ],
   "source": [
    "list(tables.iloc[5].values)[1]"
   ]
  },
  {
   "cell_type": "markdown",
   "metadata": {},
   "source": [
    "Since these entries are all strings with white spaces, we need a function to clean the data by:\n",
    "1. Extracting the relevant part of the string (in the above case, the first 5 digit number).\n",
    "\n",
    "\n",
    "2. Turning the string into an integer.\n",
    "\n",
    "We will also drop the numbering in front of the discipline name (it is possibly arbitrary anyway, as the original pdf seems to be missing entries)."
   ]
  },
  {
   "cell_type": "code",
   "execution_count": 8,
   "metadata": {},
   "outputs": [],
   "source": [
    "def main_sal(s):\n",
    "    i=s.find(',')\n",
    "    w=s[0:i]+s[i+1:i+4]\n",
    "    return int(w)"
   ]
  },
  {
   "cell_type": "markdown",
   "metadata": {},
   "source": [
    "First, import the regular expression package to search through the strings:"
   ]
  },
  {
   "cell_type": "code",
   "execution_count": 9,
   "metadata": {},
   "outputs": [],
   "source": [
    "import re"
   ]
  },
  {
   "cell_type": "markdown",
   "metadata": {},
   "source": [
    "Next, we will write two functions, one to clean the strings, the second to clean the columns by applying the first function to each entry."
   ]
  },
  {
   "cell_type": "code",
   "execution_count": 10,
   "metadata": {},
   "outputs": [],
   "source": [
    "def clean(s):\n",
    "    if type(s)==str:\n",
    "        discipline_name=re.search('\\]',s)\n",
    "        salary=re.match('\\d',s)\n",
    "        if discipline_name:\n",
    "            i=discipline_name.start()\n",
    "            return s[i+2:]\n",
    "        elif salary:\n",
    "            i=re.search('\\s',s).start()\n",
    "            j=re.search(',',s).start()\n",
    "            return int(s[:j]+s[j+1:i])\n",
    "        else:\n",
    "            pass"
   ]
  },
  {
   "cell_type": "code",
   "execution_count": 11,
   "metadata": {},
   "outputs": [],
   "source": [
    "def clean_list(L):\n",
    "    L1=[]\n",
    "    for l in L:\n",
    "        if clean(l)!=None:\n",
    "            L1.append(clean(l))\n",
    "    return L1"
   ]
  },
  {
   "cell_type": "markdown",
   "metadata": {},
   "source": [
    "Lets see if this works:"
   ]
  },
  {
   "cell_type": "code",
   "execution_count": 12,
   "metadata": {},
   "outputs": [
    {
     "data": {
      "text/plain": [
       "[72135, 'MULTI/INTERDISCIPLINARY STUDIES']"
      ]
     },
     "execution_count": 12,
     "metadata": {},
     "output_type": "execute_result"
    }
   ],
   "source": [
    "clean_list(['72,135 72,581 *','[30.] MULTI/INTERDISCIPLINARY STUDIES','*'])"
   ]
  },
  {
   "cell_type": "markdown",
   "metadata": {},
   "source": [
    "OK that seems to do it. First, we'll get a list of all the rows of the dataframe (skipping the first row because it just contains the headings):"
   ]
  },
  {
   "cell_type": "code",
   "execution_count": 13,
   "metadata": {
    "scrolled": true
   },
   "outputs": [
    {
     "name": "stdout",
     "output_type": "stream",
     "text": [
      "['Discipline and Rank', 'All Public Private', '[30.] MULTI/INTERDISCIPLINARY STUDIES', nan, nan, 'Professor', nan, '105,855 111,614 96,907', 'Associate Professor', nan, '79,387 81,362 77,121', 'Assistant Professor', nan, '65,466 65,423 65,514', 'New Assistant Professor', nan, '61,493 61,661 61,289', 'Instructor', nan, '49,855 * *', '[31.] PARKS, RECREATION, LEISURE AND FITNESS STUDIES', nan, nan, 'Professor', nan, '89,281 91,035 85,096', 'Associate Professor', nan, '70,977 71,834 69,411', 'Assistant Professor', nan, '60,302 60,984 59,006', 'New Assistant Professor', nan, '61,159 62,255 57,752', 'Instructor', nan, '51,841 53,285 49,273', '[38.] PHILOSOPHY AND RELIGIOUS STUDIES', nan, nan, 'Professor', nan, '92,741 93,625 92,205', 'Associate Professor', nan, '70,937 70,635 71,136', 'Assistant Professor', nan, '59,808 59,786 59,824', 'New Assistant Professor', nan, '60,738 59,813 61,537', 'Instructor', nan, '53,166 49,580 55,318', '[39.] THEOLOGY AND RELIGIOUS VOCATIONS', nan, nan, 'Professor', nan, '79,838 * 79,838', 'Associate Professor', nan, '65,783 * 65,757', 'Assistant Professor', nan, '56,590 * 56,590', 'New Assistant Professor', nan, '57,794 * 57,794', 'Instructor', nan, '* * *', '[40.] PHYSICAL SCIENCES', nan, nan, 'Professor', nan, '97,733 99,180 95,655', 'Associate Professor', nan, '74,574 75,632 73,135', 'Assistant Professor', nan, '64,685 66,099 62,630', 'New Assistant Professor', nan, '66,108 67,593 63,500', 'Instructor', nan, '54,080 53,524 55,807', '[42.] PSYCHOLOGY', nan, nan, 'Professor', nan, '94,218 96,201 92,174', 'Associate Professor', nan, '71,872 72,262 71,493', 'Assistant Professor', nan, '61,542 61,832 61,219', 'New Assistant Professor', nan, '61,965 62,470 61,044', 'Instructor', nan, '52,924 52,688 53,367', '[43.] HOMELAND SECURITY, LAW ENFORCEMENT, FIREFIGHTING AND RELATED PROTECTIVE SERVICE', nan, nan, 'Professor', nan, '91,192 93,325 86,426', 'Associate Professor', nan, '72,036 72,125 71,851', 'Assistant Professor', nan, '59,818 60,029 59,378', 'New Assistant Professor', nan, '59,742 59,363 60,841', 'Instructor', nan, '54,395 49,679 60,998', '[44.] PUBLIC ADMINISTRATION AND SOCIAL SERVICE PROFESSIONS', nan, nan, 'Professor', nan, '99,243 100,438 96,289', 'Associate Professor', nan, '75,713 76,216 74,644', 'Assistant Professor', nan, '64,266 65,199 62,166', 'New Assistant Professor', nan, '64,477 66,061 59,921', 'Instructor', nan, '51,079 48,772 *', '[45.] SOCIAL SCIENCES', nan, nan, 'Professor', nan, '99,219 98,367 100,395', 'Associate Professor', nan, '76,367 75,408 77,702', 'Assistant Professor', nan, '65,446 64,806 66,416', 'New Assistant Professor', nan, '67,376 66,686 68,825', 'Instructor', nan, '51,788 48,925 59,077']\n"
     ]
    }
   ],
   "source": [
    "t=tables_bad.values\n",
    "M=[]\n",
    "for x in t:\n",
    "    M+=(list(x))\n",
    "print(M[1:])"
   ]
  },
  {
   "cell_type": "markdown",
   "metadata": {},
   "source": [
    "Let us clean the list."
   ]
  },
  {
   "cell_type": "code",
   "execution_count": 14,
   "metadata": {
    "scrolled": true
   },
   "outputs": [
    {
     "data": {
      "text/plain": [
       "['MULTI/INTERDISCIPLINARY STUDIES',\n",
       " 105855,\n",
       " 79387,\n",
       " 65466,\n",
       " 61493,\n",
       " 49855,\n",
       " 'PARKS, RECREATION, LEISURE AND FITNESS STUDIES',\n",
       " 89281,\n",
       " 70977,\n",
       " 60302,\n",
       " 61159,\n",
       " 51841,\n",
       " 'PHILOSOPHY AND RELIGIOUS STUDIES',\n",
       " 92741,\n",
       " 70937,\n",
       " 59808,\n",
       " 60738,\n",
       " 53166,\n",
       " 'THEOLOGY AND RELIGIOUS VOCATIONS',\n",
       " 79838,\n",
       " 65783,\n",
       " 56590,\n",
       " 57794,\n",
       " 'PHYSICAL SCIENCES',\n",
       " 97733,\n",
       " 74574,\n",
       " 64685,\n",
       " 66108,\n",
       " 54080,\n",
       " 'PSYCHOLOGY',\n",
       " 94218,\n",
       " 71872,\n",
       " 61542,\n",
       " 61965,\n",
       " 52924,\n",
       " 'HOMELAND SECURITY, LAW ENFORCEMENT, FIREFIGHTING AND RELATED PROTECTIVE SERVICE',\n",
       " 91192,\n",
       " 72036,\n",
       " 59818,\n",
       " 59742,\n",
       " 54395,\n",
       " 'PUBLIC ADMINISTRATION AND SOCIAL SERVICE PROFESSIONS',\n",
       " 99243,\n",
       " 75713,\n",
       " 64266,\n",
       " 64477,\n",
       " 51079,\n",
       " 'SOCIAL SCIENCES',\n",
       " 99219,\n",
       " 76367,\n",
       " 65446,\n",
       " 67376,\n",
       " 51788]"
      ]
     },
     "execution_count": 14,
     "metadata": {},
     "output_type": "execute_result"
    }
   ],
   "source": [
    "clean_list(M[1:])"
   ]
  },
  {
   "cell_type": "markdown",
   "metadata": {},
   "source": [
    "Now we only want the first number, so we will make a smaller list with just the discipline names and their corresponding salaries for full professors only:"
   ]
  },
  {
   "cell_type": "code",
   "execution_count": 15,
   "metadata": {},
   "outputs": [],
   "source": [
    "L=clean_list(M[1:])\n",
    "L_fixed=[[L[i],L[i+1]] for i in range(len(L)) if type(L[i])==str]"
   ]
  },
  {
   "cell_type": "code",
   "execution_count": 16,
   "metadata": {},
   "outputs": [
    {
     "data": {
      "text/plain": [
       "[['MULTI/INTERDISCIPLINARY STUDIES', 105855],\n",
       " ['PARKS, RECREATION, LEISURE AND FITNESS STUDIES', 89281],\n",
       " ['PHILOSOPHY AND RELIGIOUS STUDIES', 92741],\n",
       " ['THEOLOGY AND RELIGIOUS VOCATIONS', 79838],\n",
       " ['PHYSICAL SCIENCES', 97733],\n",
       " ['PSYCHOLOGY', 94218],\n",
       " ['HOMELAND SECURITY, LAW ENFORCEMENT, FIREFIGHTING AND RELATED PROTECTIVE SERVICE',\n",
       "  91192],\n",
       " ['PUBLIC ADMINISTRATION AND SOCIAL SERVICE PROFESSIONS', 99243],\n",
       " ['SOCIAL SCIENCES', 99219]]"
      ]
     },
     "execution_count": 16,
     "metadata": {},
     "output_type": "execute_result"
    }
   ],
   "source": [
    "L_fixed"
   ]
  },
  {
   "cell_type": "markdown",
   "metadata": {},
   "source": [
    "This looks good. Lets put it in a neww dataframe:"
   ]
  },
  {
   "cell_type": "code",
   "execution_count": 17,
   "metadata": {},
   "outputs": [],
   "source": [
    "tables_good=pd.DataFrame(L_fixed)"
   ]
  },
  {
   "cell_type": "code",
   "execution_count": 18,
   "metadata": {},
   "outputs": [],
   "source": [
    "tables_good.columns=['Discipline','Average Professor Salary']"
   ]
  },
  {
   "cell_type": "code",
   "execution_count": 19,
   "metadata": {},
   "outputs": [
    {
     "data": {
      "text/html": [
       "<div>\n",
       "<style scoped>\n",
       "    .dataframe tbody tr th:only-of-type {\n",
       "        vertical-align: middle;\n",
       "    }\n",
       "\n",
       "    .dataframe tbody tr th {\n",
       "        vertical-align: top;\n",
       "    }\n",
       "\n",
       "    .dataframe thead th {\n",
       "        text-align: right;\n",
       "    }\n",
       "</style>\n",
       "<table border=\"1\" class=\"dataframe\">\n",
       "  <thead>\n",
       "    <tr style=\"text-align: right;\">\n",
       "      <th></th>\n",
       "      <th>Discipline</th>\n",
       "      <th>Average Professor Salary</th>\n",
       "    </tr>\n",
       "  </thead>\n",
       "  <tbody>\n",
       "    <tr>\n",
       "      <th>0</th>\n",
       "      <td>MULTI/INTERDISCIPLINARY STUDIES</td>\n",
       "      <td>105855</td>\n",
       "    </tr>\n",
       "    <tr>\n",
       "      <th>1</th>\n",
       "      <td>PARKS, RECREATION, LEISURE AND FITNESS STUDIES</td>\n",
       "      <td>89281</td>\n",
       "    </tr>\n",
       "    <tr>\n",
       "      <th>2</th>\n",
       "      <td>PHILOSOPHY AND RELIGIOUS STUDIES</td>\n",
       "      <td>92741</td>\n",
       "    </tr>\n",
       "    <tr>\n",
       "      <th>3</th>\n",
       "      <td>THEOLOGY AND RELIGIOUS VOCATIONS</td>\n",
       "      <td>79838</td>\n",
       "    </tr>\n",
       "    <tr>\n",
       "      <th>4</th>\n",
       "      <td>PHYSICAL SCIENCES</td>\n",
       "      <td>97733</td>\n",
       "    </tr>\n",
       "    <tr>\n",
       "      <th>5</th>\n",
       "      <td>PSYCHOLOGY</td>\n",
       "      <td>94218</td>\n",
       "    </tr>\n",
       "    <tr>\n",
       "      <th>6</th>\n",
       "      <td>HOMELAND SECURITY, LAW ENFORCEMENT, FIREFIGHTI...</td>\n",
       "      <td>91192</td>\n",
       "    </tr>\n",
       "    <tr>\n",
       "      <th>7</th>\n",
       "      <td>PUBLIC ADMINISTRATION AND SOCIAL SERVICE PROFE...</td>\n",
       "      <td>99243</td>\n",
       "    </tr>\n",
       "    <tr>\n",
       "      <th>8</th>\n",
       "      <td>SOCIAL SCIENCES</td>\n",
       "      <td>99219</td>\n",
       "    </tr>\n",
       "  </tbody>\n",
       "</table>\n",
       "</div>"
      ],
      "text/plain": [
       "                                          Discipline  Average Professor Salary\n",
       "0                    MULTI/INTERDISCIPLINARY STUDIES                    105855\n",
       "1     PARKS, RECREATION, LEISURE AND FITNESS STUDIES                     89281\n",
       "2                   PHILOSOPHY AND RELIGIOUS STUDIES                     92741\n",
       "3                   THEOLOGY AND RELIGIOUS VOCATIONS                     79838\n",
       "4                                  PHYSICAL SCIENCES                     97733\n",
       "5                                         PSYCHOLOGY                     94218\n",
       "6  HOMELAND SECURITY, LAW ENFORCEMENT, FIREFIGHTI...                     91192\n",
       "7  PUBLIC ADMINISTRATION AND SOCIAL SERVICE PROFE...                     99243\n",
       "8                                    SOCIAL SCIENCES                     99219"
      ]
     },
     "execution_count": 19,
     "metadata": {},
     "output_type": "execute_result"
    }
   ],
   "source": [
    "tables_good"
   ]
  },
  {
   "cell_type": "markdown",
   "metadata": {},
   "source": [
    "Now we'll clean the rest of the data. First, lets print of a list of the rows: "
   ]
  },
  {
   "cell_type": "code",
   "execution_count": 20,
   "metadata": {
    "scrolled": true
   },
   "outputs": [
    {
     "name": "stdout",
     "output_type": "stream",
     "text": [
      "['All Public Private', '[01.] AGRICULTURE, AGRICULTURE OPERATIONS, AND RELATED SCIENCES', nan, 'Professor', '102,328 102,691 96,185', 'Associate Professor', '79,433 79,822 73,870', 'Assistant Professor', '70,273 71,230 59,673', 'New Assistant Professor', '72,135 72,581 *', 'Instructor', '* * *', '[03.] NATURAL RESOURCES AND CONSERVATION', nan, 'Professor', '100,200 100,512 98,627', 'Associate Professor', '77,234 76,847 78,718', 'Assistant Professor', '66,397 66,806 64,390', 'New Assistant Professor', '70,753 70,924 *', 'Instructor', '* * *', '[04.] ARCHITECTURE AND RELATED SERVICES', nan, 'Professor', '108,653 110,056 102,031', 'Associate Professor', '83,470 82,532 87,671', 'Assistant Professor', '67,821 67,626 68,668', 'New Assistant Professor', '68,848 68,532 70,680', 'Instructor', '* * *', '[05.] AREA, ETHNIC, CULTURAL, GENDER AND GROUP STUDIES', nan, 'Professor', '107,572 107,836 106,779', 'Associate Professor', '79,123 77,193 83,554', 'Assistant Professor', '65,560 64,404 68,755', 'New Assistant Professor', '66,895 65,799 69,574', 'Instructor', '* * *', '[09.] COMMUNICATION, JOURNALISM AND RELATED PROGRAMS', nan, 'Professor', '92,241 93,285 90,946', 'Associate Professor', '70,967 70,994 70,935', 'Assistant Professor', '59,924 59,090 60,993', 'New Assistant Professor', '59,842 58,781 61,910', 'Instructor', '49,087 48,679 50,164', '[10.] COMMUNICATIONS TECHNOLOGIES/TECHNICIANS AND SUPPORT SERVICES', nan, 'Professor', '94,089 95,487 91,572', 'Associate Professor', '74,291 74,081 74,652', 'Assistant Professor', '61,691 61,313 62,182', 'New Assistant Professor', '56,864 60,665 *', 'Instructor', '* * *', '[11.] COMPUTER AND INFORMATION SCIENCES AND SUPPORT SERVICES', nan, 'Professor', '113,646 115,757 109,876', 'Associate Professor', '92,906 94,362 90,456', 'Assistant Professor', '81,810 82,719 79,753', 'New Assistant Professor', '84,821 85,094 83,749', 'Instructor', '62,225 64,150 58,616', '[13.] EDUCATION', nan, 'Professor', '92,764 92,870 92,517', 'Associate Professor', '71,722 71,465 72,263', 'Assistant Professor', '61,253 61,358 61,013', 'New Assistant Professor', '60,526 60,592 60,306', 'Instructor', '53,502 54,191 51,746', '[14.] ENGINEERING', nan, 'Professor', '129,012 129,700 127,138', 'Associate Professor', '97,023 96,720 97,873', 'Assistant Professor', '84,197 83,825 85,194', 'New Assistant Professor', '83,419 83,798 82,324', 'Instructor', '66,499 64,668', nan, 'Unweighted Average Salary', 'Discipline and Rank', 'All Public Private', '[15.] ENGINEERING TECHNOLOGIES AND ENGINEERING RELATED FIELDS', nan, 'Professor', '97,103 96,276 105,237', 'Associate Professor', '78,984 78,061 91,235', 'Assistant Professor', '69,892 68,873 79,279', 'New Assistant Professor', '69,665 68,735 *', 'Instructor', '52,747 52,747 *', '[16.] FOREIGN LANGUAGES, LITERATURES, AND LINGUISTICS', nan, 'Professor', '94,698 92,710 96,910', 'Associate Professor', '71,466 69,276 73,867', 'Assistant Professor', '59,838 58,937 60,861', 'New Assistant Professor', '59,402 59,113 59,979', 'Instructor', '52,427 48,592 56,902', '[19.] FAMILY AND CONSUMER SCIENCES/HUMAN SCIENCES', nan, 'Professor', '99,572 99,014 102,487', 'Associate Professor', '75,529 75,032 78,491', 'Assistant Professor', '64,453 64,435 64,562', 'New Assistant Professor', '64,777 64,769 *', 'Instructor', '48,556 * *', '[22.] LEGAL PROFESSIONS AND STUDIES', nan, 'Professor', '145,732 141,284 150,114', 'Associate Professor', '109,109 104,828 113,742', 'Assistant Professor', '95,606 89,861 104,044', 'New Assistant Professor', '90,429 86,424 97,106', 'Instructor', '83,255 * 85,645', '[23.] ENGLISH LANGUAGE AND LITERATURE/LETTERS', nan, 'Professor', '87,735 86,961 88,545', 'Associate Professor', '68,015 67,092 69,008', 'Assistant Professor', '58,242 57,576 58,976', 'New Assistant Professor', '57,592 57,113 58,359', 'Instructor', '46,893 45,712 49,648', '[24.] LIBERAL ARTS AND SCIENCES, GENERAL STUDIES AND HUMANITIES', nan, 'Professor', '91,954 92,577 90,991', 'Associate Professor', '71,290 72,267 69,826', 'Assistant Professor', '59,798 60,360 59,001', 'New Assistant Professor', '59,427 60,348 57,278', 'Instructor', '* *', '[25.] LIBRARY SCIENCE', nan, 'Professor', '88,531 87,805 91,074', 'Associate Professor', '72,513 71,422 76,375', 'Assistant Professor', '61,037 61,978 58,147', 'New Assistant Professor', '63,432 62,104 *', 'Instructor', '* * *', '[26.] BIOLOGICAL AND BIOMEDICAL SCIENCES', nan, 'Professor', '103,879 109,228 94,492', 'Associate Professor', '76,932 79,559 72,928', 'Assistant Professor', '66,524 69,120 62,571', 'New Assistant Professor', '64,922 66,375 61,797', 'Instructor', '53,923 52,750 55,169', '[27.] MATHEMATICS AND STATISTICS', nan, 'Professor', '94,710 95,593 93,558', 'Associate Professor', '72,777 73,392 72,021', 'Assistant Professor', '64,411 65,690 62,681', 'New Assistant Professor', '66,062 67,981 62,690', 'Instructor', '49,571 48,789 51,032', nan, 'Unweighted Average Salary', 'Discipline and Rank', 'All Public Private', '[49.] TRANSPORTATION AND MATERIAL SERVICES', nan, 'Professor', '92,888 91,288 *', 'Associate Professor', '79,678 80,977 *', 'Assistant Professor', '66,272 67,541 *', 'New Assistant Professor', '* * *', 'Instructor', '* * *', '[50.] VISUAL AND PERFORMING ARTS', nan, 'Professor', '87,065 85,962 88,422', 'Associate Professor', '68,320 67,057 69,889', 'Assistant Professor', '57,800 56,579 59,424', 'New Assistant Professor', '57,367 56,074 60,560', 'Instructor', '49,569 49,272 49,975', '[51.] HEALTH PROFESSIONS AND RELATED PROGRAMS', nan, 'Professor', '108,064 110,346 102,914', 'Associate Professor', '83,630 84,221 82,476', 'Assistant Professor', '70,512 70,688 70,181', 'New Assistant Professor', '71,605 71,910 70,981', 'Instructor', '62,751 64,080 60,775', '[52.] BUSINESS, MANAGEMENT, MARKETING, AND RELATED SUPPORT SERVICES', nan, 'Professor', '129,904 131,720 127,104', 'Associate Professor', '110,031 113,193 105,215', 'Assistant Professor', '105,958 109,128 101,076', 'New Assistant Professor', '113,924 115,807 109,612', 'Instructor', '72,307 76,446 62,787', '[54.] HISTORY GENERAL', nan, 'Professor', '89,536 89,663 89,416', 'Associate Professor', '68,593 67,677 69,542', 'Assistant Professor', '59,141 58,425 59,977', 'New Assistant Professor', '58,412 57,348 60,625', 'Instructor', '45,449 43,704 48,066']\n"
     ]
    }
   ],
   "source": [
    "t2=tables.values\n",
    "M2=[]\n",
    "for x in t2:\n",
    "    M2+=list(x)\n",
    "print(M2[1:])"
   ]
  },
  {
   "cell_type": "markdown",
   "metadata": {},
   "source": [
    "The rest is the same as for the previous part of the data."
   ]
  },
  {
   "cell_type": "code",
   "execution_count": 21,
   "metadata": {},
   "outputs": [],
   "source": [
    "L2=clean_list(M2[1:])\n",
    "L2_fixed=[[L2[i],L2[i+1]] for i in range(len(L2)) if type(L2[i])==str]"
   ]
  },
  {
   "cell_type": "code",
   "execution_count": 22,
   "metadata": {
    "scrolled": true
   },
   "outputs": [
    {
     "data": {
      "text/plain": [
       "[['AGRICULTURE, AGRICULTURE OPERATIONS, AND RELATED SCIENCES', 102328],\n",
       " ['NATURAL RESOURCES AND CONSERVATION', 100200],\n",
       " ['ARCHITECTURE AND RELATED SERVICES', 108653],\n",
       " ['AREA, ETHNIC, CULTURAL, GENDER AND GROUP STUDIES', 107572],\n",
       " ['COMMUNICATION, JOURNALISM AND RELATED PROGRAMS', 92241],\n",
       " ['COMMUNICATIONS TECHNOLOGIES/TECHNICIANS AND SUPPORT SERVICES', 94089],\n",
       " ['COMPUTER AND INFORMATION SCIENCES AND SUPPORT SERVICES', 113646],\n",
       " ['EDUCATION', 92764],\n",
       " ['ENGINEERING', 129012],\n",
       " ['ENGINEERING TECHNOLOGIES AND ENGINEERING RELATED FIELDS', 97103],\n",
       " ['FOREIGN LANGUAGES, LITERATURES, AND LINGUISTICS', 94698],\n",
       " ['FAMILY AND CONSUMER SCIENCES/HUMAN SCIENCES', 99572],\n",
       " ['LEGAL PROFESSIONS AND STUDIES', 145732],\n",
       " ['ENGLISH LANGUAGE AND LITERATURE/LETTERS', 87735],\n",
       " ['LIBERAL ARTS AND SCIENCES, GENERAL STUDIES AND HUMANITIES', 91954],\n",
       " ['LIBRARY SCIENCE', 88531],\n",
       " ['BIOLOGICAL AND BIOMEDICAL SCIENCES', 103879],\n",
       " ['MATHEMATICS AND STATISTICS', 94710],\n",
       " ['TRANSPORTATION AND MATERIAL SERVICES', 92888],\n",
       " ['VISUAL AND PERFORMING ARTS', 87065],\n",
       " ['HEALTH PROFESSIONS AND RELATED PROGRAMS', 108064],\n",
       " ['BUSINESS, MANAGEMENT, MARKETING, AND RELATED SUPPORT SERVICES', 129904],\n",
       " ['HISTORY GENERAL', 89536]]"
      ]
     },
     "execution_count": 22,
     "metadata": {},
     "output_type": "execute_result"
    }
   ],
   "source": [
    "L2_fixed"
   ]
  },
  {
   "cell_type": "markdown",
   "metadata": {},
   "source": [
    "Finally we join them together and get a dataframe:"
   ]
  },
  {
   "cell_type": "code",
   "execution_count": 23,
   "metadata": {},
   "outputs": [],
   "source": [
    "Lf_fixed=L_fixed+L2_fixed\n",
    "Lf_fixed.sort()\n",
    "df_prof=pd.DataFrame(Lf_fixed)\n",
    "df_prof.columns=[['discipline','average_professor_salary']]"
   ]
  },
  {
   "cell_type": "code",
   "execution_count": 24,
   "metadata": {},
   "outputs": [
    {
     "data": {
      "text/html": [
       "<div>\n",
       "<style scoped>\n",
       "    .dataframe tbody tr th:only-of-type {\n",
       "        vertical-align: middle;\n",
       "    }\n",
       "\n",
       "    .dataframe tbody tr th {\n",
       "        vertical-align: top;\n",
       "    }\n",
       "\n",
       "    .dataframe thead tr th {\n",
       "        text-align: left;\n",
       "    }\n",
       "</style>\n",
       "<table border=\"1\" class=\"dataframe\">\n",
       "  <thead>\n",
       "    <tr>\n",
       "      <th></th>\n",
       "      <th>discipline</th>\n",
       "      <th>average_professor_salary</th>\n",
       "    </tr>\n",
       "  </thead>\n",
       "  <tbody>\n",
       "    <tr>\n",
       "      <th>0</th>\n",
       "      <td>AGRICULTURE, AGRICULTURE OPERATIONS, AND RELAT...</td>\n",
       "      <td>102328</td>\n",
       "    </tr>\n",
       "    <tr>\n",
       "      <th>1</th>\n",
       "      <td>ARCHITECTURE AND RELATED SERVICES</td>\n",
       "      <td>108653</td>\n",
       "    </tr>\n",
       "    <tr>\n",
       "      <th>2</th>\n",
       "      <td>AREA, ETHNIC, CULTURAL, GENDER AND GROUP STUDIES</td>\n",
       "      <td>107572</td>\n",
       "    </tr>\n",
       "    <tr>\n",
       "      <th>3</th>\n",
       "      <td>BIOLOGICAL AND BIOMEDICAL SCIENCES</td>\n",
       "      <td>103879</td>\n",
       "    </tr>\n",
       "    <tr>\n",
       "      <th>4</th>\n",
       "      <td>BUSINESS, MANAGEMENT, MARKETING, AND RELATED S...</td>\n",
       "      <td>129904</td>\n",
       "    </tr>\n",
       "  </tbody>\n",
       "</table>\n",
       "</div>"
      ],
      "text/plain": [
       "                                          discipline average_professor_salary\n",
       "0  AGRICULTURE, AGRICULTURE OPERATIONS, AND RELAT...                   102328\n",
       "1                  ARCHITECTURE AND RELATED SERVICES                   108653\n",
       "2   AREA, ETHNIC, CULTURAL, GENDER AND GROUP STUDIES                   107572\n",
       "3                 BIOLOGICAL AND BIOMEDICAL SCIENCES                   103879\n",
       "4  BUSINESS, MANAGEMENT, MARKETING, AND RELATED S...                   129904"
      ]
     },
     "execution_count": 24,
     "metadata": {},
     "output_type": "execute_result"
    }
   ],
   "source": [
    "df_prof.head()"
   ]
  },
  {
   "cell_type": "code",
   "execution_count": 25,
   "metadata": {},
   "outputs": [
    {
     "data": {
      "text/html": [
       "<div>\n",
       "<style scoped>\n",
       "    .dataframe tbody tr th:only-of-type {\n",
       "        vertical-align: middle;\n",
       "    }\n",
       "\n",
       "    .dataframe tbody tr th {\n",
       "        vertical-align: top;\n",
       "    }\n",
       "\n",
       "    .dataframe thead tr th {\n",
       "        text-align: left;\n",
       "    }\n",
       "</style>\n",
       "<table border=\"1\" class=\"dataframe\">\n",
       "  <thead>\n",
       "    <tr>\n",
       "      <th></th>\n",
       "      <th>average_professor_salary</th>\n",
       "    </tr>\n",
       "  </thead>\n",
       "  <tbody>\n",
       "    <tr>\n",
       "      <th>count</th>\n",
       "      <td>32.000000</td>\n",
       "    </tr>\n",
       "    <tr>\n",
       "      <th>mean</th>\n",
       "      <td>100037.375000</td>\n",
       "    </tr>\n",
       "    <tr>\n",
       "      <th>std</th>\n",
       "      <td>13729.242248</td>\n",
       "    </tr>\n",
       "    <tr>\n",
       "      <th>min</th>\n",
       "      <td>79838.000000</td>\n",
       "    </tr>\n",
       "    <tr>\n",
       "      <th>25%</th>\n",
       "      <td>92169.250000</td>\n",
       "    </tr>\n",
       "    <tr>\n",
       "      <th>50%</th>\n",
       "      <td>95906.500000</td>\n",
       "    </tr>\n",
       "    <tr>\n",
       "      <th>75%</th>\n",
       "      <td>104373.000000</td>\n",
       "    </tr>\n",
       "    <tr>\n",
       "      <th>max</th>\n",
       "      <td>145732.000000</td>\n",
       "    </tr>\n",
       "  </tbody>\n",
       "</table>\n",
       "</div>"
      ],
      "text/plain": [
       "      average_professor_salary\n",
       "count                32.000000\n",
       "mean             100037.375000\n",
       "std               13729.242248\n",
       "min               79838.000000\n",
       "25%               92169.250000\n",
       "50%               95906.500000\n",
       "75%              104373.000000\n",
       "max              145732.000000"
      ]
     },
     "execution_count": 25,
     "metadata": {},
     "output_type": "execute_result"
    }
   ],
   "source": [
    "df_prof.describe()"
   ]
  },
  {
   "cell_type": "markdown",
   "metadata": {},
   "source": [
    "We now have half of our dataframe. The other half comes from the student median wage data:"
   ]
  },
  {
   "cell_type": "code",
   "execution_count": 26,
   "metadata": {},
   "outputs": [],
   "source": [
    "df_student=pd.read_csv('https://raw.githubusercontent.com/fivethirtyeight/data/master/college-majors/grad-students.csv')"
   ]
  },
  {
   "cell_type": "code",
   "execution_count": 27,
   "metadata": {},
   "outputs": [
    {
     "data": {
      "text/plain": [
       "Index(['Major_code', 'Major', 'Major_category', 'Grad_total',\n",
       "       'Grad_sample_size', 'Grad_employed', 'Grad_full_time_year_round',\n",
       "       'Grad_unemployed', 'Grad_unemployment_rate', 'Grad_median', 'Grad_P25',\n",
       "       'Grad_P75', 'Nongrad_total', 'Nongrad_employed',\n",
       "       'Nongrad_full_time_year_round', 'Nongrad_unemployed',\n",
       "       'Nongrad_unemployment_rate', 'Nongrad_median', 'Nongrad_P25',\n",
       "       'Nongrad_P75', 'Grad_share', 'Grad_premium'],\n",
       "      dtype='object')"
      ]
     },
     "execution_count": 27,
     "metadata": {},
     "output_type": "execute_result"
    }
   ],
   "source": [
    "df_student.columns"
   ]
  },
  {
   "cell_type": "markdown",
   "metadata": {},
   "source": [
    "We only need one of these columns, 'Grad_median'. The top of the table looks like this:"
   ]
  },
  {
   "cell_type": "code",
   "execution_count": 28,
   "metadata": {
    "scrolled": true
   },
   "outputs": [
    {
     "data": {
      "text/html": [
       "<div>\n",
       "<style scoped>\n",
       "    .dataframe tbody tr th:only-of-type {\n",
       "        vertical-align: middle;\n",
       "    }\n",
       "\n",
       "    .dataframe tbody tr th {\n",
       "        vertical-align: top;\n",
       "    }\n",
       "\n",
       "    .dataframe thead th {\n",
       "        text-align: right;\n",
       "    }\n",
       "</style>\n",
       "<table border=\"1\" class=\"dataframe\">\n",
       "  <thead>\n",
       "    <tr style=\"text-align: right;\">\n",
       "      <th></th>\n",
       "      <th>Major_code</th>\n",
       "      <th>Major</th>\n",
       "      <th>Major_category</th>\n",
       "      <th>Grad_total</th>\n",
       "      <th>Grad_sample_size</th>\n",
       "      <th>Grad_employed</th>\n",
       "      <th>Grad_full_time_year_round</th>\n",
       "      <th>Grad_unemployed</th>\n",
       "      <th>Grad_unemployment_rate</th>\n",
       "      <th>Grad_median</th>\n",
       "      <th>...</th>\n",
       "      <th>Nongrad_total</th>\n",
       "      <th>Nongrad_employed</th>\n",
       "      <th>Nongrad_full_time_year_round</th>\n",
       "      <th>Nongrad_unemployed</th>\n",
       "      <th>Nongrad_unemployment_rate</th>\n",
       "      <th>Nongrad_median</th>\n",
       "      <th>Nongrad_P25</th>\n",
       "      <th>Nongrad_P75</th>\n",
       "      <th>Grad_share</th>\n",
       "      <th>Grad_premium</th>\n",
       "    </tr>\n",
       "  </thead>\n",
       "  <tbody>\n",
       "    <tr>\n",
       "      <th>0</th>\n",
       "      <td>5601</td>\n",
       "      <td>CONSTRUCTION SERVICES</td>\n",
       "      <td>Industrial Arts &amp; Consumer Services</td>\n",
       "      <td>9173</td>\n",
       "      <td>200</td>\n",
       "      <td>7098</td>\n",
       "      <td>6511</td>\n",
       "      <td>681</td>\n",
       "      <td>0.087543</td>\n",
       "      <td>75000.0</td>\n",
       "      <td>...</td>\n",
       "      <td>86062</td>\n",
       "      <td>73607</td>\n",
       "      <td>62435</td>\n",
       "      <td>3928</td>\n",
       "      <td>0.050661</td>\n",
       "      <td>65000.0</td>\n",
       "      <td>47000</td>\n",
       "      <td>98000.0</td>\n",
       "      <td>0.096320</td>\n",
       "      <td>0.153846</td>\n",
       "    </tr>\n",
       "    <tr>\n",
       "      <th>1</th>\n",
       "      <td>6004</td>\n",
       "      <td>COMMERCIAL ART AND GRAPHIC DESIGN</td>\n",
       "      <td>Arts</td>\n",
       "      <td>53864</td>\n",
       "      <td>882</td>\n",
       "      <td>40492</td>\n",
       "      <td>29553</td>\n",
       "      <td>2482</td>\n",
       "      <td>0.057756</td>\n",
       "      <td>60000.0</td>\n",
       "      <td>...</td>\n",
       "      <td>461977</td>\n",
       "      <td>347166</td>\n",
       "      <td>250596</td>\n",
       "      <td>25484</td>\n",
       "      <td>0.068386</td>\n",
       "      <td>48000.0</td>\n",
       "      <td>34000</td>\n",
       "      <td>71000.0</td>\n",
       "      <td>0.104420</td>\n",
       "      <td>0.250000</td>\n",
       "    </tr>\n",
       "    <tr>\n",
       "      <th>2</th>\n",
       "      <td>6211</td>\n",
       "      <td>HOSPITALITY MANAGEMENT</td>\n",
       "      <td>Business</td>\n",
       "      <td>24417</td>\n",
       "      <td>437</td>\n",
       "      <td>18368</td>\n",
       "      <td>14784</td>\n",
       "      <td>1465</td>\n",
       "      <td>0.073867</td>\n",
       "      <td>65000.0</td>\n",
       "      <td>...</td>\n",
       "      <td>179335</td>\n",
       "      <td>145597</td>\n",
       "      <td>113579</td>\n",
       "      <td>7409</td>\n",
       "      <td>0.048423</td>\n",
       "      <td>50000.0</td>\n",
       "      <td>35000</td>\n",
       "      <td>75000.0</td>\n",
       "      <td>0.119837</td>\n",
       "      <td>0.300000</td>\n",
       "    </tr>\n",
       "    <tr>\n",
       "      <th>3</th>\n",
       "      <td>2201</td>\n",
       "      <td>COSMETOLOGY SERVICES AND CULINARY ARTS</td>\n",
       "      <td>Industrial Arts &amp; Consumer Services</td>\n",
       "      <td>5411</td>\n",
       "      <td>72</td>\n",
       "      <td>3590</td>\n",
       "      <td>2701</td>\n",
       "      <td>316</td>\n",
       "      <td>0.080901</td>\n",
       "      <td>47000.0</td>\n",
       "      <td>...</td>\n",
       "      <td>37575</td>\n",
       "      <td>29738</td>\n",
       "      <td>23249</td>\n",
       "      <td>1661</td>\n",
       "      <td>0.052900</td>\n",
       "      <td>41600.0</td>\n",
       "      <td>29000</td>\n",
       "      <td>60000.0</td>\n",
       "      <td>0.125878</td>\n",
       "      <td>0.129808</td>\n",
       "    </tr>\n",
       "    <tr>\n",
       "      <th>4</th>\n",
       "      <td>2001</td>\n",
       "      <td>COMMUNICATION TECHNOLOGIES</td>\n",
       "      <td>Computers &amp; Mathematics</td>\n",
       "      <td>9109</td>\n",
       "      <td>171</td>\n",
       "      <td>7512</td>\n",
       "      <td>5622</td>\n",
       "      <td>466</td>\n",
       "      <td>0.058411</td>\n",
       "      <td>57000.0</td>\n",
       "      <td>...</td>\n",
       "      <td>53819</td>\n",
       "      <td>43163</td>\n",
       "      <td>34231</td>\n",
       "      <td>3389</td>\n",
       "      <td>0.072800</td>\n",
       "      <td>52000.0</td>\n",
       "      <td>36000</td>\n",
       "      <td>78000.0</td>\n",
       "      <td>0.144753</td>\n",
       "      <td>0.096154</td>\n",
       "    </tr>\n",
       "  </tbody>\n",
       "</table>\n",
       "<p>5 rows × 22 columns</p>\n",
       "</div>"
      ],
      "text/plain": [
       "   Major_code                                   Major  \\\n",
       "0        5601                   CONSTRUCTION SERVICES   \n",
       "1        6004       COMMERCIAL ART AND GRAPHIC DESIGN   \n",
       "2        6211                  HOSPITALITY MANAGEMENT   \n",
       "3        2201  COSMETOLOGY SERVICES AND CULINARY ARTS   \n",
       "4        2001              COMMUNICATION TECHNOLOGIES   \n",
       "\n",
       "                        Major_category  Grad_total  Grad_sample_size  \\\n",
       "0  Industrial Arts & Consumer Services        9173               200   \n",
       "1                                 Arts       53864               882   \n",
       "2                             Business       24417               437   \n",
       "3  Industrial Arts & Consumer Services        5411                72   \n",
       "4              Computers & Mathematics        9109               171   \n",
       "\n",
       "   Grad_employed  Grad_full_time_year_round  Grad_unemployed  \\\n",
       "0           7098                       6511              681   \n",
       "1          40492                      29553             2482   \n",
       "2          18368                      14784             1465   \n",
       "3           3590                       2701              316   \n",
       "4           7512                       5622              466   \n",
       "\n",
       "   Grad_unemployment_rate  Grad_median      ...       Nongrad_total  \\\n",
       "0                0.087543      75000.0      ...               86062   \n",
       "1                0.057756      60000.0      ...              461977   \n",
       "2                0.073867      65000.0      ...              179335   \n",
       "3                0.080901      47000.0      ...               37575   \n",
       "4                0.058411      57000.0      ...               53819   \n",
       "\n",
       "   Nongrad_employed  Nongrad_full_time_year_round  Nongrad_unemployed  \\\n",
       "0             73607                         62435                3928   \n",
       "1            347166                        250596               25484   \n",
       "2            145597                        113579                7409   \n",
       "3             29738                         23249                1661   \n",
       "4             43163                         34231                3389   \n",
       "\n",
       "   Nongrad_unemployment_rate  Nongrad_median  Nongrad_P25  Nongrad_P75  \\\n",
       "0                   0.050661         65000.0        47000      98000.0   \n",
       "1                   0.068386         48000.0        34000      71000.0   \n",
       "2                   0.048423         50000.0        35000      75000.0   \n",
       "3                   0.052900         41600.0        29000      60000.0   \n",
       "4                   0.072800         52000.0        36000      78000.0   \n",
       "\n",
       "   Grad_share  Grad_premium  \n",
       "0    0.096320      0.153846  \n",
       "1    0.104420      0.250000  \n",
       "2    0.119837      0.300000  \n",
       "3    0.125878      0.129808  \n",
       "4    0.144753      0.096154  \n",
       "\n",
       "[5 rows x 22 columns]"
      ]
     },
     "execution_count": 28,
     "metadata": {},
     "output_type": "execute_result"
    }
   ],
   "source": [
    "df_student.head()"
   ]
  },
  {
   "cell_type": "markdown",
   "metadata": {},
   "source": [
    "First, let's get a list of all the majors:"
   ]
  },
  {
   "cell_type": "code",
   "execution_count": 29,
   "metadata": {},
   "outputs": [],
   "source": [
    "L=sorted(list(df_student['Major'].unique()))"
   ]
  },
  {
   "cell_type": "markdown",
   "metadata": {},
   "source": [
    "Then, let's make a smaller dataframe with the only information we will be using. We are keeping track of sample size because we will have to combine some student subjects, since they were classified into a larger set of disciplines."
   ]
  },
  {
   "cell_type": "code",
   "execution_count": 30,
   "metadata": {},
   "outputs": [],
   "source": [
    "df_student_sub=df_student[['Major','Grad_median','Grad_sample_size']]"
   ]
  },
  {
   "cell_type": "code",
   "execution_count": 31,
   "metadata": {},
   "outputs": [
    {
     "data": {
      "text/plain": [
       "(173, 3)"
      ]
     },
     "execution_count": 31,
     "metadata": {},
     "output_type": "execute_result"
    }
   ],
   "source": [
    "df_student_sub.shape"
   ]
  },
  {
   "cell_type": "markdown",
   "metadata": {},
   "source": [
    "So we have 173 disciplines, versus the 32 for the professor salary dataframe. In order to combine them we will merge student disciplines under professor disciplines in an essentially <i>ad hoc</i> manner, throwing some out a couple but keeping most in. It may have been more accurate (and it certainly would have been quicker!) to throw away all but those that share essentially the same name, but that would be ignoring a lot of the data. We will then calculate a 'weighted median', which will be the mean of all the student medians falling under the same professor discipline, weighted by sample size. This statistic is <i>prima facie</i> a bit of a mutant, but, assuming the student salaries are normally distributed, this ought to give the mean graduate student starting salary for someone from that discipline."
   ]
  },
  {
   "cell_type": "code",
   "execution_count": 32,
   "metadata": {
    "scrolled": true
   },
   "outputs": [
    {
     "data": {
      "text/plain": [
       "['ACCOUNTING',\n",
       " 'ACTUARIAL SCIENCE',\n",
       " 'ADVERTISING AND PUBLIC RELATIONS',\n",
       " 'AEROSPACE ENGINEERING',\n",
       " 'AGRICULTURAL ECONOMICS',\n",
       " 'AGRICULTURE PRODUCTION AND MANAGEMENT',\n",
       " 'ANIMAL SCIENCES',\n",
       " 'ANTHROPOLOGY AND ARCHEOLOGY',\n",
       " 'APPLIED MATHEMATICS',\n",
       " 'ARCHITECTURAL ENGINEERING',\n",
       " 'ARCHITECTURE',\n",
       " 'AREA ETHNIC AND CIVILIZATION STUDIES',\n",
       " 'ART AND MUSIC EDUCATION',\n",
       " 'ART HISTORY AND CRITICISM',\n",
       " 'ASTRONOMY AND ASTROPHYSICS',\n",
       " 'ATMOSPHERIC SCIENCES AND METEOROLOGY',\n",
       " 'BIOCHEMICAL SCIENCES',\n",
       " 'BIOLOGICAL ENGINEERING',\n",
       " 'BIOLOGY',\n",
       " 'BIOMEDICAL ENGINEERING',\n",
       " 'BOTANY',\n",
       " 'BUSINESS ECONOMICS',\n",
       " 'BUSINESS MANAGEMENT AND ADMINISTRATION',\n",
       " 'CHEMICAL ENGINEERING',\n",
       " 'CHEMISTRY',\n",
       " 'CIVIL ENGINEERING',\n",
       " 'CLINICAL PSYCHOLOGY',\n",
       " 'COGNITIVE SCIENCE AND BIOPSYCHOLOGY',\n",
       " 'COMMERCIAL ART AND GRAPHIC DESIGN',\n",
       " 'COMMUNICATION DISORDERS SCIENCES AND SERVICES',\n",
       " 'COMMUNICATION TECHNOLOGIES',\n",
       " 'COMMUNICATIONS',\n",
       " 'COMMUNITY AND PUBLIC HEALTH',\n",
       " 'COMPOSITION AND RHETORIC',\n",
       " 'COMPUTER ADMINISTRATION MANAGEMENT AND SECURITY',\n",
       " 'COMPUTER AND INFORMATION SYSTEMS',\n",
       " 'COMPUTER ENGINEERING',\n",
       " 'COMPUTER NETWORKING AND TELECOMMUNICATIONS',\n",
       " 'COMPUTER PROGRAMMING AND DATA PROCESSING',\n",
       " 'COMPUTER SCIENCE',\n",
       " 'CONSTRUCTION SERVICES',\n",
       " 'COSMETOLOGY SERVICES AND CULINARY ARTS',\n",
       " 'COUNSELING PSYCHOLOGY',\n",
       " 'COURT REPORTING',\n",
       " 'CRIMINAL JUSTICE AND FIRE PROTECTION',\n",
       " 'CRIMINOLOGY',\n",
       " 'DRAMA AND THEATER ARTS',\n",
       " 'EARLY CHILDHOOD EDUCATION',\n",
       " 'ECOLOGY',\n",
       " 'ECONOMICS',\n",
       " 'EDUCATIONAL ADMINISTRATION AND SUPERVISION',\n",
       " 'EDUCATIONAL PSYCHOLOGY',\n",
       " 'ELECTRICAL ENGINEERING',\n",
       " 'ELECTRICAL ENGINEERING TECHNOLOGY',\n",
       " 'ELECTRICAL, MECHANICAL, AND PRECISION TECHNOLOGIES AND PRODUCTION',\n",
       " 'ELEMENTARY EDUCATION',\n",
       " 'ENGINEERING AND INDUSTRIAL MANAGEMENT',\n",
       " 'ENGINEERING MECHANICS PHYSICS AND SCIENCE',\n",
       " 'ENGINEERING TECHNOLOGIES',\n",
       " 'ENGLISH LANGUAGE AND LITERATURE',\n",
       " 'ENVIRONMENTAL ENGINEERING',\n",
       " 'ENVIRONMENTAL SCIENCE',\n",
       " 'FAMILY AND CONSUMER SCIENCES',\n",
       " 'FILM VIDEO AND PHOTOGRAPHIC ARTS',\n",
       " 'FINANCE',\n",
       " 'FINE ARTS',\n",
       " 'FOOD SCIENCE',\n",
       " 'FORESTRY',\n",
       " 'FRENCH GERMAN LATIN AND OTHER COMMON FOREIGN LANGUAGE STUDIES',\n",
       " 'GENERAL AGRICULTURE',\n",
       " 'GENERAL BUSINESS',\n",
       " 'GENERAL EDUCATION',\n",
       " 'GENERAL ENGINEERING',\n",
       " 'GENERAL MEDICAL AND HEALTH SERVICES',\n",
       " 'GENERAL SOCIAL SCIENCES',\n",
       " 'GENETICS',\n",
       " 'GEOGRAPHY',\n",
       " 'GEOLOGICAL AND GEOPHYSICAL ENGINEERING',\n",
       " 'GEOLOGY AND EARTH SCIENCE',\n",
       " 'GEOSCIENCES',\n",
       " 'HEALTH AND MEDICAL ADMINISTRATIVE SERVICES',\n",
       " 'HEALTH AND MEDICAL PREPARATORY PROGRAMS',\n",
       " 'HISTORY',\n",
       " 'HOSPITALITY MANAGEMENT',\n",
       " 'HUMAN RESOURCES AND PERSONNEL MANAGEMENT',\n",
       " 'HUMAN SERVICES AND COMMUNITY ORGANIZATION',\n",
       " 'HUMANITIES',\n",
       " 'INDUSTRIAL AND MANUFACTURING ENGINEERING',\n",
       " 'INDUSTRIAL AND ORGANIZATIONAL PSYCHOLOGY',\n",
       " 'INDUSTRIAL PRODUCTION TECHNOLOGIES',\n",
       " 'INFORMATION SCIENCES',\n",
       " 'INTERCULTURAL AND INTERNATIONAL STUDIES',\n",
       " 'INTERDISCIPLINARY SOCIAL SCIENCES',\n",
       " 'INTERNATIONAL BUSINESS',\n",
       " 'INTERNATIONAL RELATIONS',\n",
       " 'JOURNALISM',\n",
       " 'LANGUAGE AND DRAMA EDUCATION',\n",
       " 'LIBERAL ARTS',\n",
       " 'LIBRARY SCIENCE',\n",
       " 'LINGUISTICS AND COMPARATIVE LANGUAGE AND LITERATURE',\n",
       " 'MANAGEMENT INFORMATION SYSTEMS AND STATISTICS',\n",
       " 'MARKETING AND MARKETING RESEARCH',\n",
       " 'MASS MEDIA',\n",
       " 'MATERIALS ENGINEERING AND MATERIALS SCIENCE',\n",
       " 'MATERIALS SCIENCE',\n",
       " 'MATHEMATICS',\n",
       " 'MATHEMATICS AND COMPUTER SCIENCE',\n",
       " 'MATHEMATICS TEACHER EDUCATION',\n",
       " 'MECHANICAL ENGINEERING',\n",
       " 'MECHANICAL ENGINEERING RELATED TECHNOLOGIES',\n",
       " 'MEDICAL ASSISTING SERVICES',\n",
       " 'MEDICAL TECHNOLOGIES TECHNICIANS',\n",
       " 'METALLURGICAL ENGINEERING',\n",
       " 'MICROBIOLOGY',\n",
       " 'MILITARY TECHNOLOGIES',\n",
       " 'MINING AND MINERAL ENGINEERING',\n",
       " 'MISCELLANEOUS AGRICULTURE',\n",
       " 'MISCELLANEOUS BIOLOGY',\n",
       " 'MISCELLANEOUS BUSINESS & MEDICAL ADMINISTRATION',\n",
       " 'MISCELLANEOUS EDUCATION',\n",
       " 'MISCELLANEOUS ENGINEERING',\n",
       " 'MISCELLANEOUS ENGINEERING TECHNOLOGIES',\n",
       " 'MISCELLANEOUS FINE ARTS',\n",
       " 'MISCELLANEOUS HEALTH MEDICAL PROFESSIONS',\n",
       " 'MISCELLANEOUS PSYCHOLOGY',\n",
       " 'MISCELLANEOUS SOCIAL SCIENCES',\n",
       " 'MOLECULAR BIOLOGY',\n",
       " 'MULTI-DISCIPLINARY OR GENERAL SCIENCE',\n",
       " 'MULTI/INTERDISCIPLINARY STUDIES',\n",
       " 'MUSIC',\n",
       " 'NATURAL RESOURCES MANAGEMENT',\n",
       " 'NAVAL ARCHITECTURE AND MARINE ENGINEERING',\n",
       " 'NEUROSCIENCE',\n",
       " 'NUCLEAR ENGINEERING',\n",
       " 'NUCLEAR, INDUSTRIAL RADIOLOGY, AND BIOLOGICAL TECHNOLOGIES',\n",
       " 'NURSING',\n",
       " 'NUTRITION SCIENCES',\n",
       " 'OCEANOGRAPHY',\n",
       " 'OPERATIONS LOGISTICS AND E-COMMERCE',\n",
       " 'OTHER FOREIGN LANGUAGES',\n",
       " 'PETROLEUM ENGINEERING',\n",
       " 'PHARMACOLOGY',\n",
       " 'PHARMACY PHARMACEUTICAL SCIENCES AND ADMINISTRATION',\n",
       " 'PHILOSOPHY AND RELIGIOUS STUDIES',\n",
       " 'PHYSICAL AND HEALTH EDUCATION TEACHING',\n",
       " 'PHYSICAL FITNESS PARKS RECREATION AND LEISURE',\n",
       " 'PHYSICAL SCIENCES',\n",
       " 'PHYSICS',\n",
       " 'PHYSIOLOGY',\n",
       " 'PLANT SCIENCE AND AGRONOMY',\n",
       " 'POLITICAL SCIENCE AND GOVERNMENT',\n",
       " 'PRE-LAW AND LEGAL STUDIES',\n",
       " 'PSYCHOLOGY',\n",
       " 'PUBLIC ADMINISTRATION',\n",
       " 'PUBLIC POLICY',\n",
       " 'SCHOOL STUDENT COUNSELING',\n",
       " 'SCIENCE AND COMPUTER TEACHER EDUCATION',\n",
       " 'SECONDARY TEACHER EDUCATION',\n",
       " 'SOCIAL PSYCHOLOGY',\n",
       " 'SOCIAL SCIENCE OR HISTORY TEACHER EDUCATION',\n",
       " 'SOCIAL WORK',\n",
       " 'SOCIOLOGY',\n",
       " 'SOIL SCIENCE',\n",
       " 'SPECIAL NEEDS EDUCATION',\n",
       " 'STATISTICS AND DECISION SCIENCE',\n",
       " 'STUDIO ARTS',\n",
       " 'TEACHER EDUCATION: MULTIPLE LEVELS',\n",
       " 'THEOLOGY AND RELIGIOUS VOCATIONS',\n",
       " 'TRANSPORTATION SCIENCES AND TECHNOLOGIES',\n",
       " 'TREATMENT THERAPY PROFESSIONS',\n",
       " 'UNITED STATES HISTORY',\n",
       " 'VISUAL AND PERFORMING ARTS',\n",
       " 'ZOOLOGY']"
      ]
     },
     "execution_count": 32,
     "metadata": {},
     "output_type": "execute_result"
    }
   ],
   "source": [
    "L"
   ]
  },
  {
   "cell_type": "markdown",
   "metadata": {},
   "source": [
    "The corresponding list of professor disciplines is"
   ]
  },
  {
   "cell_type": "code",
   "execution_count": 33,
   "metadata": {
    "scrolled": true
   },
   "outputs": [
    {
     "data": {
      "text/html": [
       "<div>\n",
       "<style scoped>\n",
       "    .dataframe tbody tr th:only-of-type {\n",
       "        vertical-align: middle;\n",
       "    }\n",
       "\n",
       "    .dataframe tbody tr th {\n",
       "        vertical-align: top;\n",
       "    }\n",
       "\n",
       "    .dataframe thead tr th {\n",
       "        text-align: left;\n",
       "    }\n",
       "</style>\n",
       "<table border=\"1\" class=\"dataframe\">\n",
       "  <thead>\n",
       "    <tr>\n",
       "      <th></th>\n",
       "      <th>discipline</th>\n",
       "    </tr>\n",
       "  </thead>\n",
       "  <tbody>\n",
       "    <tr>\n",
       "      <th>0</th>\n",
       "      <td>AGRICULTURE, AGRICULTURE OPERATIONS, AND RELAT...</td>\n",
       "    </tr>\n",
       "    <tr>\n",
       "      <th>1</th>\n",
       "      <td>ARCHITECTURE AND RELATED SERVICES</td>\n",
       "    </tr>\n",
       "    <tr>\n",
       "      <th>2</th>\n",
       "      <td>AREA, ETHNIC, CULTURAL, GENDER AND GROUP STUDIES</td>\n",
       "    </tr>\n",
       "    <tr>\n",
       "      <th>3</th>\n",
       "      <td>BIOLOGICAL AND BIOMEDICAL SCIENCES</td>\n",
       "    </tr>\n",
       "    <tr>\n",
       "      <th>4</th>\n",
       "      <td>BUSINESS, MANAGEMENT, MARKETING, AND RELATED S...</td>\n",
       "    </tr>\n",
       "    <tr>\n",
       "      <th>5</th>\n",
       "      <td>COMMUNICATION, JOURNALISM AND RELATED PROGRAMS</td>\n",
       "    </tr>\n",
       "    <tr>\n",
       "      <th>6</th>\n",
       "      <td>COMMUNICATIONS TECHNOLOGIES/TECHNICIANS AND SU...</td>\n",
       "    </tr>\n",
       "    <tr>\n",
       "      <th>7</th>\n",
       "      <td>COMPUTER AND INFORMATION SCIENCES AND SUPPORT ...</td>\n",
       "    </tr>\n",
       "    <tr>\n",
       "      <th>8</th>\n",
       "      <td>EDUCATION</td>\n",
       "    </tr>\n",
       "    <tr>\n",
       "      <th>9</th>\n",
       "      <td>ENGINEERING</td>\n",
       "    </tr>\n",
       "    <tr>\n",
       "      <th>10</th>\n",
       "      <td>ENGINEERING TECHNOLOGIES AND ENGINEERING RELAT...</td>\n",
       "    </tr>\n",
       "    <tr>\n",
       "      <th>11</th>\n",
       "      <td>ENGLISH LANGUAGE AND LITERATURE/LETTERS</td>\n",
       "    </tr>\n",
       "    <tr>\n",
       "      <th>12</th>\n",
       "      <td>FAMILY AND CONSUMER SCIENCES/HUMAN SCIENCES</td>\n",
       "    </tr>\n",
       "    <tr>\n",
       "      <th>13</th>\n",
       "      <td>FOREIGN LANGUAGES, LITERATURES, AND LINGUISTICS</td>\n",
       "    </tr>\n",
       "    <tr>\n",
       "      <th>14</th>\n",
       "      <td>HEALTH PROFESSIONS AND RELATED PROGRAMS</td>\n",
       "    </tr>\n",
       "    <tr>\n",
       "      <th>15</th>\n",
       "      <td>HISTORY GENERAL</td>\n",
       "    </tr>\n",
       "    <tr>\n",
       "      <th>16</th>\n",
       "      <td>HOMELAND SECURITY, LAW ENFORCEMENT, FIREFIGHTI...</td>\n",
       "    </tr>\n",
       "    <tr>\n",
       "      <th>17</th>\n",
       "      <td>LEGAL PROFESSIONS AND STUDIES</td>\n",
       "    </tr>\n",
       "    <tr>\n",
       "      <th>18</th>\n",
       "      <td>LIBERAL ARTS AND SCIENCES, GENERAL STUDIES AND...</td>\n",
       "    </tr>\n",
       "    <tr>\n",
       "      <th>19</th>\n",
       "      <td>LIBRARY SCIENCE</td>\n",
       "    </tr>\n",
       "    <tr>\n",
       "      <th>20</th>\n",
       "      <td>MATHEMATICS AND STATISTICS</td>\n",
       "    </tr>\n",
       "    <tr>\n",
       "      <th>21</th>\n",
       "      <td>MULTI/INTERDISCIPLINARY STUDIES</td>\n",
       "    </tr>\n",
       "    <tr>\n",
       "      <th>22</th>\n",
       "      <td>NATURAL RESOURCES AND CONSERVATION</td>\n",
       "    </tr>\n",
       "    <tr>\n",
       "      <th>23</th>\n",
       "      <td>PARKS, RECREATION, LEISURE AND FITNESS STUDIES</td>\n",
       "    </tr>\n",
       "    <tr>\n",
       "      <th>24</th>\n",
       "      <td>PHILOSOPHY AND RELIGIOUS STUDIES</td>\n",
       "    </tr>\n",
       "    <tr>\n",
       "      <th>25</th>\n",
       "      <td>PHYSICAL SCIENCES</td>\n",
       "    </tr>\n",
       "    <tr>\n",
       "      <th>26</th>\n",
       "      <td>PSYCHOLOGY</td>\n",
       "    </tr>\n",
       "    <tr>\n",
       "      <th>27</th>\n",
       "      <td>PUBLIC ADMINISTRATION AND SOCIAL SERVICE PROFE...</td>\n",
       "    </tr>\n",
       "    <tr>\n",
       "      <th>28</th>\n",
       "      <td>SOCIAL SCIENCES</td>\n",
       "    </tr>\n",
       "    <tr>\n",
       "      <th>29</th>\n",
       "      <td>THEOLOGY AND RELIGIOUS VOCATIONS</td>\n",
       "    </tr>\n",
       "    <tr>\n",
       "      <th>30</th>\n",
       "      <td>TRANSPORTATION AND MATERIAL SERVICES</td>\n",
       "    </tr>\n",
       "    <tr>\n",
       "      <th>31</th>\n",
       "      <td>VISUAL AND PERFORMING ARTS</td>\n",
       "    </tr>\n",
       "  </tbody>\n",
       "</table>\n",
       "</div>"
      ],
      "text/plain": [
       "                                           discipline\n",
       "0   AGRICULTURE, AGRICULTURE OPERATIONS, AND RELAT...\n",
       "1                   ARCHITECTURE AND RELATED SERVICES\n",
       "2    AREA, ETHNIC, CULTURAL, GENDER AND GROUP STUDIES\n",
       "3                  BIOLOGICAL AND BIOMEDICAL SCIENCES\n",
       "4   BUSINESS, MANAGEMENT, MARKETING, AND RELATED S...\n",
       "5      COMMUNICATION, JOURNALISM AND RELATED PROGRAMS\n",
       "6   COMMUNICATIONS TECHNOLOGIES/TECHNICIANS AND SU...\n",
       "7   COMPUTER AND INFORMATION SCIENCES AND SUPPORT ...\n",
       "8                                           EDUCATION\n",
       "9                                         ENGINEERING\n",
       "10  ENGINEERING TECHNOLOGIES AND ENGINEERING RELAT...\n",
       "11            ENGLISH LANGUAGE AND LITERATURE/LETTERS\n",
       "12        FAMILY AND CONSUMER SCIENCES/HUMAN SCIENCES\n",
       "13    FOREIGN LANGUAGES, LITERATURES, AND LINGUISTICS\n",
       "14            HEALTH PROFESSIONS AND RELATED PROGRAMS\n",
       "15                                    HISTORY GENERAL\n",
       "16  HOMELAND SECURITY, LAW ENFORCEMENT, FIREFIGHTI...\n",
       "17                      LEGAL PROFESSIONS AND STUDIES\n",
       "18  LIBERAL ARTS AND SCIENCES, GENERAL STUDIES AND...\n",
       "19                                    LIBRARY SCIENCE\n",
       "20                         MATHEMATICS AND STATISTICS\n",
       "21                    MULTI/INTERDISCIPLINARY STUDIES\n",
       "22                 NATURAL RESOURCES AND CONSERVATION\n",
       "23     PARKS, RECREATION, LEISURE AND FITNESS STUDIES\n",
       "24                   PHILOSOPHY AND RELIGIOUS STUDIES\n",
       "25                                  PHYSICAL SCIENCES\n",
       "26                                         PSYCHOLOGY\n",
       "27  PUBLIC ADMINISTRATION AND SOCIAL SERVICE PROFE...\n",
       "28                                    SOCIAL SCIENCES\n",
       "29                   THEOLOGY AND RELIGIOUS VOCATIONS\n",
       "30               TRANSPORTATION AND MATERIAL SERVICES\n",
       "31                         VISUAL AND PERFORMING ARTS"
      ]
     },
     "execution_count": 33,
     "metadata": {},
     "output_type": "execute_result"
    }
   ],
   "source": [
    "df_prof['discipline']"
   ]
  },
  {
   "cell_type": "markdown",
   "metadata": {},
   "source": [
    "We now set up a dictionary that sends the student discipline to our chosen over-arching professor discipline. This was saved in a separate file due to its unsightly length, and can be found on github [here](https://github.com/dhughesln3/python_industry_versus_academia/blob/master/academia_dict.py). It will allow us to merge the two datasets."
   ]
  },
  {
   "cell_type": "code",
   "execution_count": 34,
   "metadata": {},
   "outputs": [],
   "source": [
    "from academia_dict import d"
   ]
  },
  {
   "cell_type": "code",
   "execution_count": 35,
   "metadata": {},
   "outputs": [],
   "source": [
    "Disciplines=set(d.values())"
   ]
  },
  {
   "cell_type": "markdown",
   "metadata": {},
   "source": [
    "Now we convert the student dataframe into a list"
   ]
  },
  {
   "cell_type": "code",
   "execution_count": 36,
   "metadata": {},
   "outputs": [],
   "source": [
    "student_list=list(map(list,list(df_student_sub.values)))"
   ]
  },
  {
   "cell_type": "code",
   "execution_count": 37,
   "metadata": {},
   "outputs": [
    {
     "data": {
      "text/plain": [
       "[['CONSTRUCTION SERVICES', 75000.0, 200],\n",
       " ['COMMERCIAL ART AND GRAPHIC DESIGN', 60000.0, 882],\n",
       " ['HOSPITALITY MANAGEMENT', 65000.0, 437],\n",
       " ['COSMETOLOGY SERVICES AND CULINARY ARTS', 47000.0, 72],\n",
       " ['COMMUNICATION TECHNOLOGIES', 57000.0, 171],\n",
       " ['COURT REPORTING', 75000.0, 22],\n",
       " ['MARKETING AND MARKETING RESEARCH', 80000.0, 3738],\n",
       " ['AGRICULTURE PRODUCTION AND MANAGEMENT', 67000.0, 386],\n",
       " ['COMPUTER PROGRAMMING AND DATA PROCESSING', 85000.0, 98],\n",
       " ['ADVERTISING AND PUBLIC RELATIONS', 60000.0, 688],\n",
       " ['FILM VIDEO AND PHOTOGRAPHIC ARTS', 57000.0, 370],\n",
       " ['ELECTRICAL, MECHANICAL, AND PRECISION TECHNOLOGIES AND PRODUCTION',\n",
       "  62000.0,\n",
       "  45],\n",
       " ['MECHANICAL ENGINEERING RELATED TECHNOLOGIES', 78000.0, 111],\n",
       " ['MASS MEDIA', 57000.0, 828],\n",
       " ['TRANSPORTATION SCIENCES AND TECHNOLOGIES', 90000.0, 538],\n",
       " ['COMPUTER NETWORKING AND TELECOMMUNICATIONS', 80000.0, 218],\n",
       " ['MISCELLANEOUS BUSINESS & MEDICAL ADMINISTRATION', 75000.0, 408],\n",
       " ['MISCELLANEOUS ENGINEERING TECHNOLOGIES', 80000.0, 315],\n",
       " ['INDUSTRIAL PRODUCTION TECHNOLOGIES', 84500.0, 408],\n",
       " ['MISCELLANEOUS FINE ARTS', 55000.0, 27],\n",
       " ['CRIMINAL JUSTICE AND FIRE PROTECTION', 68000.0, 3794],\n",
       " ['BUSINESS MANAGEMENT AND ADMINISTRATION', 77000.0, 16129],\n",
       " ['CRIMINOLOGY', 65000.0, 381],\n",
       " ['MANAGEMENT INFORMATION SYSTEMS AND STATISTICS', 89000.0, 963],\n",
       " ['COMPUTER ADMINISTRATION MANAGEMENT AND SECURITY', 81000.0, 194],\n",
       " ['OPERATIONS LOGISTICS AND E-COMMERCE', 94000.0, 335],\n",
       " ['GENERAL BUSINESS', 85000.0, 10399],\n",
       " ['MEDICAL TECHNOLOGIES TECHNICIANS', 76000.0, 942],\n",
       " ['COMPUTER AND INFORMATION SYSTEMS', 80000.0, 1425],\n",
       " ['COMMUNICATIONS', 65000.0, 4879],\n",
       " ['ACTUARIAL SCIENCE', 110000.0, 56],\n",
       " ['ELECTRICAL ENGINEERING TECHNOLOGY', 85000.0, 521],\n",
       " ['JOURNALISM', 70000.0, 2244],\n",
       " ['MEDICAL ASSISTING SERVICES', 80000.0, 326],\n",
       " ['ENGINEERING TECHNOLOGIES', 74000.0, 219],\n",
       " ['ACCOUNTING', 88000.0, 11774],\n",
       " ['FINE ARTS', 58000.0, 2528],\n",
       " ['NURSING', 84000.0, 10432],\n",
       " ['INFORMATION SCIENCES', 84000.0, 551],\n",
       " ['ARCHITECTURAL ENGINEERING', 78000.0, 143],\n",
       " ['MULTI/INTERDISCIPLINARY STUDIES', 55000.0, 318],\n",
       " ['NUCLEAR, INDUSTRIAL RADIOLOGY, AND BIOLOGICAL TECHNOLOGIES', 80000.0, 65],\n",
       " ['GENERAL AGRICULTURE', 68000.0, 764],\n",
       " ['FORESTRY', 78000.0, 487],\n",
       " ['LIBERAL ARTS', 70000.0, 3420],\n",
       " ['HUMAN SERVICES AND COMMUNITY ORGANIZATION', 50100.0, 555],\n",
       " ['VISUAL AND PERFORMING ARTS', 53000.0, 275],\n",
       " ['NATURAL RESOURCES MANAGEMENT', 70000.0, 659],\n",
       " ['STUDIO ARTS', 50750.0, 500],\n",
       " ['FAMILY AND CONSUMER SCIENCES', 58000.0, 2294],\n",
       " ['PHYSICAL FITNESS PARKS RECREATION AND LEISURE', 60000.0, 2423],\n",
       " ['FINANCE', 95000.0, 6319],\n",
       " ['PETROLEUM ENGINEERING', 124000.0, 164],\n",
       " ['PLANT SCIENCE AND AGRONOMY', 67000.0, 624],\n",
       " ['HUMAN RESOURCES AND PERSONNEL MANAGEMENT', 70000.0, 1316],\n",
       " ['INTERNATIONAL BUSINESS', 72000.0, 604],\n",
       " ['COMPOSITION AND RHETORIC', 58000.0, 332],\n",
       " ['DRAMA AND THEATER ARTS', 58600.0, 1069],\n",
       " ['BUSINESS ECONOMICS', 94000.0, 642],\n",
       " ['ENGINEERING AND INDUSTRIAL MANAGEMENT', 107000.0, 340],\n",
       " ['COMPUTER SCIENCE', 95000.0, 6674],\n",
       " ['HEALTH AND MEDICAL ADMINISTRATIVE SERVICES', 79000.0, 898],\n",
       " ['AGRICULTURAL ECONOMICS', 80000.0, 305],\n",
       " ['ENVIRONMENTAL SCIENCE', 68000.0, 925],\n",
       " ['GEOGRAPHY', 73000.0, 1008],\n",
       " ['MISCELLANEOUS ENGINEERING', 90000.0, 497],\n",
       " ['ECOLOGY', 62000.0, 465],\n",
       " ['INTERDISCIPLINARY SOCIAL SCIENCES', 66000.0, 541],\n",
       " ['ARCHITECTURE', 72000.0, 2760],\n",
       " ['SOIL SCIENCE', 65000.0, 61],\n",
       " ['PRE-LAW AND LEGAL STUDIES', 76000.0, 544],\n",
       " ['GENERAL ENGINEERING', 100000.0, 4345],\n",
       " ['MULTI-DISCIPLINARY OR GENERAL SCIENCE', 86000.0, 3494],\n",
       " ['CIVIL ENGINEERING', 98000.0, 4057],\n",
       " ['COMPUTER ENGINEERING', 97000.0, 1806],\n",
       " ['MINING AND MINERAL ENGINEERING', 100000.0, 126],\n",
       " ['EARLY CHILDHOOD EDUCATION', 50000.0, 1396],\n",
       " ['SOCIOLOGY', 64000.0, 6155],\n",
       " ['GENERAL SOCIAL SCIENCES', 69000.0, 1069],\n",
       " ['ANIMAL SCIENCES', 70300.0, 1335],\n",
       " ['TREATMENT THERAPY PROFESSIONS', 70000.0, 2607],\n",
       " ['MISCELLANEOUS AGRICULTURE', 54000.0, 98],\n",
       " ['MECHANICAL ENGINEERING', 100000.0, 7285],\n",
       " ['HUMANITIES', 65000.0, 450],\n",
       " ['FOOD SCIENCE', 72000.0, 266],\n",
       " ['INDUSTRIAL AND MANUFACTURING ENGINEERING', 98000.0, 1758],\n",
       " ['GEOLOGICAL AND GEOPHYSICAL ENGINEERING', 105000.0, 66],\n",
       " ['SOCIAL PSYCHOLOGY', 71000.0, 119],\n",
       " ['NAVAL ARCHITECTURE AND MARINE ENGINEERING', 102000.0, 197],\n",
       " ['MATHEMATICS AND COMPUTER SCIENCE', 98000.0, 103],\n",
       " ['ART HISTORY AND CRITICISM', 65000.0, 892],\n",
       " ['MISCELLANEOUS HEALTH MEDICAL PROFESSIONS', 60000.0, 848],\n",
       " ['GENERAL MEDICAL AND HEALTH SERVICES', 70000.0, 1172],\n",
       " ['INTERCULTURAL AND INTERNATIONAL STUDIES', 70000.0, 600],\n",
       " ['NUTRITION SCIENCES', 65000.0, 641],\n",
       " ['ECONOMICS', 100000.0, 9822],\n",
       " ['PHYSICAL AND HEALTH EDUCATION TEACHING', 65000.0, 3061],\n",
       " ['COMMUNITY AND PUBLIC HEALTH', 68500.0, 638],\n",
       " ['ELECTRICAL ENGINEERING', 106000.0, 10070],\n",
       " ['THEOLOGY AND RELIGIOUS VOCATIONS', 48000.0, 3112],\n",
       " ['OCEANOGRAPHY', 90000.0, 197],\n",
       " ['MISCELLANEOUS EDUCATION', 61000.0, 2091],\n",
       " ['BIOLOGICAL ENGINEERING', 80000.0, 433],\n",
       " ['PUBLIC ADMINISTRATION', 75000.0, 750],\n",
       " ['ELEMENTARY EDUCATION', 55000.0, 15410],\n",
       " ['INDUSTRIAL AND ORGANIZATIONAL PSYCHOLOGY', 75000.0, 221],\n",
       " ['MILITARY TECHNOLOGIES', 74000.0, 29],\n",
       " ['GENERAL EDUCATION', 58000.0, 13846],\n",
       " ['MUSIC', 60000.0, 2759],\n",
       " ['ART AND MUSIC EDUCATION', 59000.0, 2679],\n",
       " ['LINGUISTICS AND COMPARATIVE LANGUAGE AND LITERATURE', 65000.0, 853],\n",
       " ['MATERIALS ENGINEERING AND MATERIALS SCIENCE', 92000.0, 335],\n",
       " ['ANTHROPOLOGY AND ARCHEOLOGY', 65000.0, 1971],\n",
       " ['SOCIAL WORK', 53000.0, 4537],\n",
       " ['ENGLISH LANGUAGE AND LITERATURE', 67000.0, 13688],\n",
       " ['TEACHER EDUCATION: MULTIPLE LEVELS', 55000.0, 1122],\n",
       " ['GEOLOGY AND EARTH SCIENCE', 84000.0, 1814],\n",
       " ['PHARMACY PHARMACEUTICAL SCIENCES AND ADMINISTRATION', 111000.0, 2872],\n",
       " ['OTHER FOREIGN LANGUAGES', 68000.0, 784],\n",
       " ['PSYCHOLOGY', 64000.0, 20547],\n",
       " ['AREA ETHNIC AND CIVILIZATION STUDIES', 75000.0, 1573],\n",
       " ['PHYSICAL SCIENCES', 80000.0, 141],\n",
       " ['ATMOSPHERIC SCIENCES AND METEOROLOGY', 82000.0, 254],\n",
       " ['CHEMICAL ENGINEERING', 102000.0, 3306],\n",
       " ['AEROSPACE ENGINEERING', 107000.0, 1240],\n",
       " ['HISTORY', 80000.0, 11486],\n",
       " ['MISCELLANEOUS SOCIAL SCIENCES', 73000.0, 306],\n",
       " ['APPLIED MATHEMATICS', 100000.0, 386],\n",
       " ['STATISTICS AND DECISION SCIENCE', 92000.0, 429],\n",
       " ['FRENCH GERMAN LATIN AND OTHER COMMON FOREIGN LANGUAGE STUDIES',\n",
       "  67000.0,\n",
       "  3187],\n",
       " ['SOCIAL SCIENCE OR HISTORY TEACHER EDUCATION', 60000.0, 1646],\n",
       " ['MATHEMATICS', 89000.0, 6906],\n",
       " ['POLITICAL SCIENCE AND GOVERNMENT', 92000.0, 14467],\n",
       " ['INTERNATIONAL RELATIONS', 86000.0, 1348],\n",
       " ['ENVIRONMENTAL ENGINEERING', 81000.0, 252],\n",
       " ['MISCELLANEOUS BIOLOGY', 65000.0, 553],\n",
       " ['MISCELLANEOUS PSYCHOLOGY', 68000.0, 590],\n",
       " ['METALLURGICAL ENGINEERING', 100000.0, 251],\n",
       " ['SECONDARY TEACHER EDUCATION', 61000.0, 3094],\n",
       " ['GEOSCIENCES', 90000.0, 204],\n",
       " ['UNITED STATES HISTORY', 82000.0, 311],\n",
       " ['ENGINEERING MECHANICS PHYSICS AND SCIENCE', 100000.0, 447],\n",
       " ['COGNITIVE SCIENCE AND BIOPSYCHOLOGY', 95000.0, 118],\n",
       " ['LANGUAGE AND DRAMA EDUCATION', 58000.0, 2757],\n",
       " ['NUCLEAR ENGINEERING', 110000.0, 243],\n",
       " ['PUBLIC POLICY', 89000.0, 338],\n",
       " ['MATHEMATICS TEACHER EDUCATION', 60000.0, 1194],\n",
       " ['SCIENCE AND COMPUTER TEACHER EDUCATION', 62000.0, 993],\n",
       " ['MICROBIOLOGY', 85000.0, 1631],\n",
       " ['PHILOSOPHY AND RELIGIOUS STUDIES', 65000.0, 4566],\n",
       " ['SPECIAL NEEDS EDUCATION', 58000.0, 3240],\n",
       " ['BOTANY', 70000.0, 323],\n",
       " ['BIOLOGY', 95000.0, 21994],\n",
       " ['ASTRONOMY AND ASTROPHYSICS', 96000.0, 136],\n",
       " ['CHEMISTRY', 100000.0, 8694],\n",
       " ['PHYSIOLOGY', 90000.0, 1155],\n",
       " ['BIOMEDICAL ENGINEERING', 90000.0, 475],\n",
       " ['LIBRARY SCIENCE', 52000.0, 314],\n",
       " ['MOLECULAR BIOLOGY', 85000.0, 875],\n",
       " ['PHARMACOLOGY', 105000.0, 168],\n",
       " ['ZOOLOGY', 110000.0, 1978],\n",
       " ['PHYSICS', 100000.0, 4361],\n",
       " ['NEUROSCIENCE', 58000.0, 286],\n",
       " ['EDUCATIONAL PSYCHOLOGY', 61000.0, 396],\n",
       " ['BIOCHEMICAL SCIENCES', 96000.0, 2765],\n",
       " ['GENETICS', 78000.0, 261],\n",
       " ['MATERIALS SCIENCE', 95000.0, 299],\n",
       " ['COMMUNICATION DISORDERS SCIENCES AND SERVICES', 65000.0, 2947],\n",
       " ['COUNSELING PSYCHOLOGY', 50000.0, 724],\n",
       " ['CLINICAL PSYCHOLOGY', 70000.0, 355],\n",
       " ['HEALTH AND MEDICAL PREPARATORY PROGRAMS', 135000.0, 1766],\n",
       " ['SCHOOL STUDENT COUNSELING', 56000.0, 260],\n",
       " ['EDUCATIONAL ADMINISTRATION AND SUPERVISION', 65000.0, 841]]"
      ]
     },
     "execution_count": 37,
     "metadata": {},
     "output_type": "execute_result"
    }
   ],
   "source": [
    "student_list"
   ]
  },
  {
   "cell_type": "markdown",
   "metadata": {},
   "source": [
    "The function we use to clean it up uses the dictionary from earlier to changing the student discipline name to the professor discipline name"
   ]
  },
  {
   "cell_type": "code",
   "execution_count": 38,
   "metadata": {},
   "outputs": [],
   "source": [
    "def student_cleaner(L):\n",
    "    result=[]\n",
    "    for l in L:\n",
    "        try:\n",
    "            r=[d[l[0]],l[1],l[2]]\n",
    "            result.append(r)\n",
    "        except:\n",
    "            pass\n",
    "    return result"
   ]
  },
  {
   "cell_type": "code",
   "execution_count": 39,
   "metadata": {},
   "outputs": [],
   "source": [
    "cleaned_student_list=student_cleaner(student_list)"
   ]
  },
  {
   "cell_type": "markdown",
   "metadata": {},
   "source": [
    "Next, we sort the list alphabetically"
   ]
  },
  {
   "cell_type": "code",
   "execution_count": 40,
   "metadata": {},
   "outputs": [],
   "source": [
    "cleaned_student_list.sort(key= lambda x:x[0])"
   ]
  },
  {
   "cell_type": "markdown",
   "metadata": {},
   "source": [
    "Finally,we work out the overall averages using the sample sizes and medians"
   ]
  },
  {
   "cell_type": "code",
   "execution_count": 41,
   "metadata": {},
   "outputs": [],
   "source": [
    "final_student_list=[]\n",
    "n=len(cleaned_student_list)\n",
    "x=cleaned_student_list[0]\n",
    "x[1]=x[2]*x[1]\n",
    "for i in range(1,n):\n",
    "    y=cleaned_student_list[i]\n",
    "    if x[0]==y[0]:\n",
    "        x[2]+=y[2]\n",
    "        x[1]+=y[1]*y[2]\n",
    "    else:\n",
    "        z=[x[0],x[1]/x[2]]\n",
    "        final_student_list.append(z)\n",
    "        x=y\n",
    "        x[1]=x[1]*x[2]\n",
    "z=[x[0],x[1]/x[2]]\n",
    "final_student_list.append(z)"
   ]
  },
  {
   "cell_type": "markdown",
   "metadata": {},
   "source": [
    "The cleaned list now looks like this"
   ]
  },
  {
   "cell_type": "code",
   "execution_count": 42,
   "metadata": {},
   "outputs": [
    {
     "data": {
      "text/plain": [
       "[['AGRICULTURE, AGRICULTURE OPERATIONS, AND RELATED SCIENCES',\n",
       "  247129500.0,\n",
       "  3573],\n",
       " ['AGRICULTURE, AGRICULTURE OPERATIONS, AND RELATED SCIENCES', 68000.0, 764],\n",
       " ['AGRICULTURE, AGRICULTURE OPERATIONS, AND RELATED SCIENCES', 67000.0, 624],\n",
       " ['AGRICULTURE, AGRICULTURE OPERATIONS, AND RELATED SCIENCES', 80000.0, 305],\n",
       " ['AGRICULTURE, AGRICULTURE OPERATIONS, AND RELATED SCIENCES', 65000.0, 61],\n",
       " ['AGRICULTURE, AGRICULTURE OPERATIONS, AND RELATED SCIENCES', 70300.0, 1335],\n",
       " ['AGRICULTURE, AGRICULTURE OPERATIONS, AND RELATED SCIENCES', 54000.0, 98],\n",
       " ['ARCHITECTURE AND RELATED SERVICES', 198720000.0, 2760],\n",
       " ['AREA, ETHNIC, CULTURAL, GENDER AND GROUP STUDIES', 117975000.0, 1573],\n",
       " ['BIOLOGICAL AND BIOMEDICAL SCIENCES', 3421360000.0, 37189],\n",
       " ['BIOLOGICAL AND BIOMEDICAL SCIENCES', 80000.0, 326],\n",
       " ['BIOLOGICAL AND BIOMEDICAL SCIENCES', 79000.0, 898],\n",
       " ['BIOLOGICAL AND BIOMEDICAL SCIENCES', 60000.0, 848],\n",
       " ['BIOLOGICAL AND BIOMEDICAL SCIENCES', 70000.0, 1172],\n",
       " ['BIOLOGICAL AND BIOMEDICAL SCIENCES', 65000.0, 641],\n",
       " ['BIOLOGICAL AND BIOMEDICAL SCIENCES', 80000.0, 433],\n",
       " ['BIOLOGICAL AND BIOMEDICAL SCIENCES', 65000.0, 553],\n",
       " ['BIOLOGICAL AND BIOMEDICAL SCIENCES', 85000.0, 1631],\n",
       " ['BIOLOGICAL AND BIOMEDICAL SCIENCES', 95000.0, 21994],\n",
       " ['BIOLOGICAL AND BIOMEDICAL SCIENCES', 90000.0, 1155],\n",
       " ['BIOLOGICAL AND BIOMEDICAL SCIENCES', 90000.0, 475],\n",
       " ['BIOLOGICAL AND BIOMEDICAL SCIENCES', 85000.0, 875],\n",
       " ['BIOLOGICAL AND BIOMEDICAL SCIENCES', 105000.0, 168],\n",
       " ['BIOLOGICAL AND BIOMEDICAL SCIENCES', 58000.0, 286],\n",
       " ['BIOLOGICAL AND BIOMEDICAL SCIENCES', 96000.0, 2765],\n",
       " ['BIOLOGICAL AND BIOMEDICAL SCIENCES', 78000.0, 261],\n",
       " ['BIOLOGICAL AND BIOMEDICAL SCIENCES', 135000.0, 1766],\n",
       " ['BUSINESS, MANAGEMENT, MARKETING, AND RELATED SUPPORT SERVICES',\n",
       "  5209431000.0,\n",
       "  60170],\n",
       " ['BUSINESS, MANAGEMENT, MARKETING, AND RELATED SUPPORT SERVICES',\n",
       "  75000.0,\n",
       "  408],\n",
       " ['BUSINESS, MANAGEMENT, MARKETING, AND RELATED SUPPORT SERVICES',\n",
       "  77000.0,\n",
       "  16129],\n",
       " ['BUSINESS, MANAGEMENT, MARKETING, AND RELATED SUPPORT SERVICES',\n",
       "  94000.0,\n",
       "  335],\n",
       " ['BUSINESS, MANAGEMENT, MARKETING, AND RELATED SUPPORT SERVICES',\n",
       "  85000.0,\n",
       "  10399],\n",
       " ['BUSINESS, MANAGEMENT, MARKETING, AND RELATED SUPPORT SERVICES',\n",
       "  88000.0,\n",
       "  11774],\n",
       " ['BUSINESS, MANAGEMENT, MARKETING, AND RELATED SUPPORT SERVICES',\n",
       "  95000.0,\n",
       "  6319],\n",
       " ['BUSINESS, MANAGEMENT, MARKETING, AND RELATED SUPPORT SERVICES',\n",
       "  72000.0,\n",
       "  604],\n",
       " ['BUSINESS, MANAGEMENT, MARKETING, AND RELATED SUPPORT SERVICES',\n",
       "  94000.0,\n",
       "  642],\n",
       " ['BUSINESS, MANAGEMENT, MARKETING, AND RELATED SUPPORT SERVICES',\n",
       "  100000.0,\n",
       "  9822],\n",
       " ['COMMUNICATION, JOURNALISM AND RELATED PROGRAMS', 562691000.0, 8639],\n",
       " ['COMMUNICATION, JOURNALISM AND RELATED PROGRAMS', 57000.0, 828],\n",
       " ['COMMUNICATION, JOURNALISM AND RELATED PROGRAMS', 65000.0, 4879],\n",
       " ['COMMUNICATION, JOURNALISM AND RELATED PROGRAMS', 70000.0, 2244],\n",
       " ['COMMUNICATIONS TECHNOLOGIES/TECHNICIANS AND SUPPORT SERVICES',\n",
       "  9747000.0,\n",
       "  171],\n",
       " ['COMPUTER AND INFORMATION SCIENCES AND SUPPORT SERVICES',\n",
       "  1096687000.0,\n",
       "  11929],\n",
       " ['COMPUTER AND INFORMATION SCIENCES AND SUPPORT SERVICES', 80000.0, 218],\n",
       " ['COMPUTER AND INFORMATION SCIENCES AND SUPPORT SERVICES', 89000.0, 963],\n",
       " ['COMPUTER AND INFORMATION SCIENCES AND SUPPORT SERVICES', 81000.0, 194],\n",
       " ['COMPUTER AND INFORMATION SCIENCES AND SUPPORT SERVICES', 80000.0, 1425],\n",
       " ['COMPUTER AND INFORMATION SCIENCES AND SUPPORT SERVICES', 84000.0, 551],\n",
       " ['COMPUTER AND INFORMATION SCIENCES AND SUPPORT SERVICES', 95000.0, 6674],\n",
       " ['COMPUTER AND INFORMATION SCIENCES AND SUPPORT SERVICES', 97000.0, 1806],\n",
       " ['EDUCATION', 2970551000.0, 51347],\n",
       " ['EDUCATION', 65000.0, 3061],\n",
       " ['EDUCATION', 61000.0, 2091],\n",
       " ['EDUCATION', 55000.0, 15410],\n",
       " ['EDUCATION', 58000.0, 13846],\n",
       " ['EDUCATION', 55000.0, 1122],\n",
       " ['EDUCATION', 60000.0, 1646],\n",
       " ['EDUCATION', 61000.0, 3094],\n",
       " ['EDUCATION', 58000.0, 2757],\n",
       " ['EDUCATION', 60000.0, 1194],\n",
       " ['EDUCATION', 62000.0, 993],\n",
       " ['EDUCATION', 58000.0, 3240],\n",
       " ['EDUCATION', 61000.0, 396],\n",
       " ['EDUCATION', 56000.0, 260],\n",
       " ['EDUCATION', 65000.0, 841],\n",
       " ['ENGINEERING', 3398176000.0, 33799],\n",
       " ['ENGINEERING', 78000.0, 111],\n",
       " ['ENGINEERING', 80000.0, 315],\n",
       " ['ENGINEERING', 84500.0, 408],\n",
       " ['ENGINEERING', 85000.0, 521],\n",
       " ['ENGINEERING', 74000.0, 219],\n",
       " ['ENGINEERING', 78000.0, 143],\n",
       " ['ENGINEERING', 80000.0, 65],\n",
       " ['ENGINEERING', 124000.0, 164],\n",
       " ['ENGINEERING', 107000.0, 340],\n",
       " ['ENGINEERING', 90000.0, 497],\n",
       " ['ENGINEERING', 100000.0, 4345],\n",
       " ['ENGINEERING', 98000.0, 4057],\n",
       " ['ENGINEERING', 100000.0, 126],\n",
       " ['ENGINEERING', 100000.0, 7285],\n",
       " ['ENGINEERING', 98000.0, 1758],\n",
       " ['ENGINEERING', 105000.0, 66],\n",
       " ['ENGINEERING', 102000.0, 197],\n",
       " ['ENGINEERING', 106000.0, 10070],\n",
       " ['ENGINEERING', 92000.0, 335],\n",
       " ['ENGINEERING', 107000.0, 1240],\n",
       " ['ENGINEERING', 81000.0, 252],\n",
       " ['ENGINEERING', 100000.0, 251],\n",
       " ['ENGINEERING', 100000.0, 447],\n",
       " ['ENGINEERING', 110000.0, 243],\n",
       " ['ENGINEERING', 95000.0, 299],\n",
       " ['ENGLISH LANGUAGE AND LITERATURE/LETTERS', 936352000.0, 14020],\n",
       " ['ENGLISH LANGUAGE AND LITERATURE/LETTERS', 67000.0, 13688],\n",
       " ['FAMILY AND CONSUMER SCIENCES/HUMAN SCIENCES', 133052000.0, 2294],\n",
       " ['FOREIGN LANGUAGES, LITERATURES, AND LINGUISTICS', 480214000.0, 6772],\n",
       " ['FOREIGN LANGUAGES, LITERATURES, AND LINGUISTICS', 65000.0, 853],\n",
       " ['FOREIGN LANGUAGES, LITERATURES, AND LINGUISTICS', 68000.0, 784],\n",
       " ['FOREIGN LANGUAGES, LITERATURES, AND LINGUISTICS', 67000.0, 3187],\n",
       " ['FOREIGN LANGUAGES, LITERATURES, AND LINGUISTICS', 86000.0, 1348],\n",
       " ['HEALTH PROFESSIONS AND RELATED PROGRAMS', 1386635000.0, 16251],\n",
       " ['HEALTH PROFESSIONS AND RELATED PROGRAMS', 111000.0, 2872],\n",
       " ['HEALTH PROFESSIONS AND RELATED PROGRAMS', 65000.0, 2947],\n",
       " ['HISTORY GENERAL', 944382000.0, 11797],\n",
       " ['HISTORY GENERAL', 82000.0, 311],\n",
       " ['HOMELAND SECURITY, LAW ENFORCEMENT, FIREFIGHTING AND RELATED PROTECTIVE SERVICE',\n",
       "  284903000.0,\n",
       "  4204],\n",
       " ['HOMELAND SECURITY, LAW ENFORCEMENT, FIREFIGHTING AND RELATED PROTECTIVE SERVICE',\n",
       "  65000.0,\n",
       "  381],\n",
       " ['HOMELAND SECURITY, LAW ENFORCEMENT, FIREFIGHTING AND RELATED PROTECTIVE SERVICE',\n",
       "  74000.0,\n",
       "  29],\n",
       " ['LEGAL PROFESSIONS AND STUDIES', 42994000.0, 566],\n",
       " ['LEGAL PROFESSIONS AND STUDIES', 76000.0, 544],\n",
       " ['LIBERAL ARTS AND SCIENCES, GENERAL STUDIES AND HUMANITIES',\n",
       "  1933818000.0,\n",
       "  23755],\n",
       " ['LIBERAL ARTS AND SCIENCES, GENERAL STUDIES AND HUMANITIES', 58000.0, 2528],\n",
       " ['LIBERAL ARTS AND SCIENCES, GENERAL STUDIES AND HUMANITIES', 70000.0, 3420],\n",
       " ['LIBERAL ARTS AND SCIENCES, GENERAL STUDIES AND HUMANITIES', 65000.0, 450],\n",
       " ['LIBERAL ARTS AND SCIENCES, GENERAL STUDIES AND HUMANITIES', 65000.0, 892],\n",
       " ['LIBERAL ARTS AND SCIENCES, GENERAL STUDIES AND HUMANITIES', 65000.0, 1971],\n",
       " ['LIBERAL ARTS AND SCIENCES, GENERAL STUDIES AND HUMANITIES', 92000.0, 14467],\n",
       " ['LIBRARY SCIENCE', 16328000.0, 314],\n",
       " ['MATHEMATICS AND STATISTICS', 708956000.0, 7880],\n",
       " ['MATHEMATICS AND STATISTICS', 98000.0, 103],\n",
       " ['MATHEMATICS AND STATISTICS', 100000.0, 386],\n",
       " ['MATHEMATICS AND STATISTICS', 92000.0, 429],\n",
       " ['MATHEMATICS AND STATISTICS', 89000.0, 6906],\n",
       " ['MULTI/INTERDISCIPLINARY STUDIES', 300484000.0, 3494],\n",
       " ['NATURAL RESOURCES AND CONSERVATION', 416036000.0, 4837],\n",
       " ['NATURAL RESOURCES AND CONSERVATION', 70000.0, 659],\n",
       " ['NATURAL RESOURCES AND CONSERVATION', 68000.0, 925],\n",
       " ['NATURAL RESOURCES AND CONSERVATION', 62000.0, 465],\n",
       " ['NATURAL RESOURCES AND CONSERVATION', 70000.0, 323],\n",
       " ['NATURAL RESOURCES AND CONSERVATION', 110000.0, 1978],\n",
       " ['PARKS, RECREATION, LEISURE AND FITNESS STUDIES', 293710500.0, 4731],\n",
       " ['PARKS, RECREATION, LEISURE AND FITNESS STUDIES', 50100.0, 555],\n",
       " ['PARKS, RECREATION, LEISURE AND FITNESS STUDIES', 60000.0, 2423],\n",
       " ['PARKS, RECREATION, LEISURE AND FITNESS STUDIES', 70000.0, 1316],\n",
       " ['PHILOSOPHY AND RELIGIOUS STUDIES', 296790000.0, 4566],\n",
       " ['PHYSICAL SCIENCES', 1949926000.0, 20115],\n",
       " ['PHYSICAL SCIENCES', 90000.0, 197],\n",
       " ['PHYSICAL SCIENCES', 84000.0, 1814],\n",
       " ['PHYSICAL SCIENCES', 80000.0, 141],\n",
       " ['PHYSICAL SCIENCES', 82000.0, 254],\n",
       " ['PHYSICAL SCIENCES', 102000.0, 3306],\n",
       " ['PHYSICAL SCIENCES', 90000.0, 204],\n",
       " ['PHYSICAL SCIENCES', 96000.0, 136],\n",
       " ['PHYSICAL SCIENCES', 100000.0, 8694],\n",
       " ['PHYSICAL SCIENCES', 100000.0, 4361],\n",
       " ['PSYCHOLOGY', 1634902000.0, 25281],\n",
       " ['PSYCHOLOGY', 71000.0, 119],\n",
       " ['PSYCHOLOGY', 75000.0, 221],\n",
       " ['PSYCHOLOGY', 64000.0, 20547],\n",
       " ['PSYCHOLOGY', 68000.0, 590],\n",
       " ['PSYCHOLOGY', 95000.0, 118],\n",
       " ['PSYCHOLOGY', 50000.0, 724],\n",
       " ['PSYCHOLOGY', 70000.0, 355],\n",
       " ['PUBLIC ADMINISTRATION AND SOCIAL SERVICE PROFESSIONS', 370496000.0, 6263],\n",
       " ['PUBLIC ADMINISTRATION AND SOCIAL SERVICE PROFESSIONS', 75000.0, 750],\n",
       " ['PUBLIC ADMINISTRATION AND SOCIAL SERVICE PROFESSIONS', 53000.0, 4537],\n",
       " ['PUBLIC ADMINISTRATION AND SOCIAL SERVICE PROFESSIONS', 89000.0, 338],\n",
       " ['SOCIAL SCIENCES', 525725000.0, 8071],\n",
       " ['SOCIAL SCIENCES', 64000.0, 6155],\n",
       " ['SOCIAL SCIENCES', 69000.0, 1069],\n",
       " ['SOCIAL SCIENCES', 73000.0, 306],\n",
       " ['THEOLOGY AND RELIGIOUS VOCATIONS', 149376000.0, 3112],\n",
       " ['TRANSPORTATION AND MATERIAL SERVICES', 63420000.0, 738],\n",
       " ['TRANSPORTATION AND MATERIAL SERVICES', 90000.0, 538],\n",
       " ['VISUAL AND PERFORMING ARTS', 500204400.0, 8534],\n",
       " ['VISUAL AND PERFORMING ARTS', 57000.0, 370],\n",
       " ['VISUAL AND PERFORMING ARTS', 53000.0, 275],\n",
       " ['VISUAL AND PERFORMING ARTS', 50750.0, 500],\n",
       " ['VISUAL AND PERFORMING ARTS', 58600.0, 1069],\n",
       " ['VISUAL AND PERFORMING ARTS', 60000.0, 2759],\n",
       " ['VISUAL AND PERFORMING ARTS', 59000.0, 2679]]"
      ]
     },
     "execution_count": 42,
     "metadata": {},
     "output_type": "execute_result"
    }
   ],
   "source": [
    "cleaned_student_list"
   ]
  },
  {
   "cell_type": "code",
   "execution_count": 43,
   "metadata": {},
   "outputs": [],
   "source": [
    "final_student_list.sort(key=lambda x:x[0])"
   ]
  },
  {
   "cell_type": "markdown",
   "metadata": {},
   "source": [
    "And the final list looks like this (no duplicates)"
   ]
  },
  {
   "cell_type": "code",
   "execution_count": 44,
   "metadata": {
    "scrolled": true
   },
   "outputs": [
    {
     "data": {
      "text/plain": [
       "[['AGRICULTURE, AGRICULTURE OPERATIONS, AND RELATED SCIENCES',\n",
       "  69165.82703610412],\n",
       " ['ARCHITECTURE AND RELATED SERVICES', 72000.0],\n",
       " ['AREA, ETHNIC, CULTURAL, GENDER AND GROUP STUDIES', 75000.0],\n",
       " ['BIOLOGICAL AND BIOMEDICAL SCIENCES', 91999.24708919304],\n",
       " ['BUSINESS, MANAGEMENT, MARKETING, AND RELATED SUPPORT SERVICES',\n",
       "  86578.54412497922],\n",
       " ['COMMUNICATION, JOURNALISM AND RELATED PROGRAMS', 65133.81178377127],\n",
       " ['COMMUNICATIONS TECHNOLOGIES/TECHNICIANS AND SUPPORT SERVICES', 57000.0],\n",
       " ['COMPUTER AND INFORMATION SCIENCES AND SUPPORT SERVICES', 91934.52929834856],\n",
       " ['EDUCATION', 57852.47434124681],\n",
       " ['ENGINEERING', 100540.72605698393],\n",
       " ['ENGLISH LANGUAGE AND LITERATURE/LETTERS', 66786.87589158345],\n",
       " ['FAMILY AND CONSUMER SCIENCES/HUMAN SCIENCES', 58000.0],\n",
       " ['FOREIGN LANGUAGES, LITERATURES, AND LINGUISTICS', 70911.69521559362],\n",
       " ['HEALTH PROFESSIONS AND RELATED PROGRAMS', 85326.133776383],\n",
       " ['HISTORY GENERAL', 80052.72526913622],\n",
       " ['HOMELAND SECURITY, LAW ENFORCEMENT, FIREFIGHTING AND RELATED PROTECTIVE SERVICE',\n",
       "  67769.50523311133],\n",
       " ['LEGAL PROFESSIONS AND STUDIES', 75961.13074204947],\n",
       " ['LIBERAL ARTS AND SCIENCES, GENERAL STUDIES AND HUMANITIES',\n",
       "  81406.777520522],\n",
       " ['LIBRARY SCIENCE', 52000.0],\n",
       " ['MATHEMATICS AND STATISTICS', 89969.03553299492],\n",
       " ['MULTI/INTERDISCIPLINARY STUDIES', 86000.0],\n",
       " ['NATURAL RESOURCES AND CONSERVATION', 86011.16394459376],\n",
       " ['PARKS, RECREATION, LEISURE AND FITNESS STUDIES', 62082.117945466074],\n",
       " ['PHILOSOPHY AND RELIGIOUS STUDIES', 65000.0],\n",
       " ['PHYSICAL SCIENCES', 96938.90131742481],\n",
       " ['PSYCHOLOGY', 64669.19821209604],\n",
       " ['PUBLIC ADMINISTRATION AND SOCIAL SERVICE PROFESSIONS', 59156.31486508063],\n",
       " ['SOCIAL SCIENCES', 65137.52942634122],\n",
       " ['THEOLOGY AND RELIGIOUS VOCATIONS', 48000.0],\n",
       " ['TRANSPORTATION AND MATERIAL SERVICES', 85934.9593495935],\n",
       " ['VISUAL AND PERFORMING ARTS', 58613.12397468948]]"
      ]
     },
     "execution_count": 44,
     "metadata": {},
     "output_type": "execute_result"
    }
   ],
   "source": [
    "final_student_list"
   ]
  },
  {
   "cell_type": "markdown",
   "metadata": {},
   "source": [
    "Now, we return to the list for professor salary. We are going to add on the student salary. First, we'll set up a dictionary that gets rid of any professor disciplines that have no corresponding student disciplines:"
   ]
  },
  {
   "cell_type": "code",
   "execution_count": 45,
   "metadata": {},
   "outputs": [],
   "source": [
    "rev_d={x:True for x in Disciplines}\n",
    "prof_list=[]\n",
    "for l in Lf_fixed:\n",
    "    try:\n",
    "        rev_d[l[0]]\n",
    "        prof_list.append(l)\n",
    "    except:\n",
    "        pass\n",
    "prof_list.sort(key = lambda x:x[0])"
   ]
  },
  {
   "cell_type": "markdown",
   "metadata": {},
   "source": [
    "Then we add the student salary onto the professor salary list:"
   ]
  },
  {
   "cell_type": "code",
   "execution_count": 46,
   "metadata": {},
   "outputs": [],
   "source": [
    "n=len(prof_list)\n",
    "comparison_list=[]\n",
    "for i in range(n):\n",
    "    if final_student_list[i][0]==prof_list[i][0]:\n",
    "        comparison_list.append([prof_list[i][0],round(final_student_list[i][1]),prof_list[i][1]])\n",
    "    else:\n",
    "        print('Error here:',i)\n",
    "        break"
   ]
  },
  {
   "cell_type": "markdown",
   "metadata": {},
   "source": [
    "And here is the full list:"
   ]
  },
  {
   "cell_type": "code",
   "execution_count": 47,
   "metadata": {
    "scrolled": true
   },
   "outputs": [
    {
     "data": {
      "text/plain": [
       "[['AGRICULTURE, AGRICULTURE OPERATIONS, AND RELATED SCIENCES', 69166, 102328],\n",
       " ['ARCHITECTURE AND RELATED SERVICES', 72000, 108653],\n",
       " ['AREA, ETHNIC, CULTURAL, GENDER AND GROUP STUDIES', 75000, 107572],\n",
       " ['BIOLOGICAL AND BIOMEDICAL SCIENCES', 91999, 103879],\n",
       " ['BUSINESS, MANAGEMENT, MARKETING, AND RELATED SUPPORT SERVICES',\n",
       "  86579,\n",
       "  129904],\n",
       " ['COMMUNICATION, JOURNALISM AND RELATED PROGRAMS', 65134, 92241],\n",
       " ['COMMUNICATIONS TECHNOLOGIES/TECHNICIANS AND SUPPORT SERVICES',\n",
       "  57000,\n",
       "  94089],\n",
       " ['COMPUTER AND INFORMATION SCIENCES AND SUPPORT SERVICES', 91935, 113646],\n",
       " ['EDUCATION', 57852, 92764],\n",
       " ['ENGINEERING', 100541, 129012],\n",
       " ['ENGLISH LANGUAGE AND LITERATURE/LETTERS', 66787, 87735],\n",
       " ['FAMILY AND CONSUMER SCIENCES/HUMAN SCIENCES', 58000, 99572],\n",
       " ['FOREIGN LANGUAGES, LITERATURES, AND LINGUISTICS', 70912, 94698],\n",
       " ['HEALTH PROFESSIONS AND RELATED PROGRAMS', 85326, 108064],\n",
       " ['HISTORY GENERAL', 80053, 89536],\n",
       " ['HOMELAND SECURITY, LAW ENFORCEMENT, FIREFIGHTING AND RELATED PROTECTIVE SERVICE',\n",
       "  67770,\n",
       "  91192],\n",
       " ['LEGAL PROFESSIONS AND STUDIES', 75961, 145732],\n",
       " ['LIBERAL ARTS AND SCIENCES, GENERAL STUDIES AND HUMANITIES', 81407, 91954],\n",
       " ['LIBRARY SCIENCE', 52000, 88531],\n",
       " ['MATHEMATICS AND STATISTICS', 89969, 94710],\n",
       " ['MULTI/INTERDISCIPLINARY STUDIES', 86000, 105855],\n",
       " ['NATURAL RESOURCES AND CONSERVATION', 86011, 100200],\n",
       " ['PARKS, RECREATION, LEISURE AND FITNESS STUDIES', 62082, 89281],\n",
       " ['PHILOSOPHY AND RELIGIOUS STUDIES', 65000, 92741],\n",
       " ['PHYSICAL SCIENCES', 96939, 97733],\n",
       " ['PSYCHOLOGY', 64669, 94218],\n",
       " ['PUBLIC ADMINISTRATION AND SOCIAL SERVICE PROFESSIONS', 59156, 99243],\n",
       " ['SOCIAL SCIENCES', 65138, 99219],\n",
       " ['THEOLOGY AND RELIGIOUS VOCATIONS', 48000, 79838],\n",
       " ['TRANSPORTATION AND MATERIAL SERVICES', 85935, 92888],\n",
       " ['VISUAL AND PERFORMING ARTS', 58613, 87065]]"
      ]
     },
     "execution_count": 47,
     "metadata": {},
     "output_type": "execute_result"
    }
   ],
   "source": [
    "comparison_list"
   ]
  },
  {
   "cell_type": "markdown",
   "metadata": {},
   "source": [
    "Finally, we turn it inot a dataframe:"
   ]
  },
  {
   "cell_type": "code",
   "execution_count": 48,
   "metadata": {},
   "outputs": [],
   "source": [
    "df_comparison=pd.DataFrame(comparison_list)"
   ]
  },
  {
   "cell_type": "code",
   "execution_count": 49,
   "metadata": {},
   "outputs": [],
   "source": [
    "df_comparison.columns=[['discipline','weighted_median_grad_salary','mean_prof_salary']]"
   ]
  },
  {
   "cell_type": "code",
   "execution_count": 50,
   "metadata": {},
   "outputs": [
    {
     "data": {
      "text/html": [
       "<div>\n",
       "<style scoped>\n",
       "    .dataframe tbody tr th:only-of-type {\n",
       "        vertical-align: middle;\n",
       "    }\n",
       "\n",
       "    .dataframe tbody tr th {\n",
       "        vertical-align: top;\n",
       "    }\n",
       "\n",
       "    .dataframe thead tr th {\n",
       "        text-align: left;\n",
       "    }\n",
       "</style>\n",
       "<table border=\"1\" class=\"dataframe\">\n",
       "  <thead>\n",
       "    <tr>\n",
       "      <th></th>\n",
       "      <th>weighted_median_grad_salary</th>\n",
       "      <th>mean_prof_salary</th>\n",
       "    </tr>\n",
       "  </thead>\n",
       "  <tbody>\n",
       "    <tr>\n",
       "      <th>count</th>\n",
       "      <td>31.000000</td>\n",
       "      <td>31.000000</td>\n",
       "    </tr>\n",
       "    <tr>\n",
       "      <th>mean</th>\n",
       "      <td>73320.451613</td>\n",
       "      <td>100132.032258</td>\n",
       "    </tr>\n",
       "    <tr>\n",
       "      <th>std</th>\n",
       "      <td>14081.149252</td>\n",
       "      <td>13945.568659</td>\n",
       "    </tr>\n",
       "    <tr>\n",
       "      <th>min</th>\n",
       "      <td>48000.000000</td>\n",
       "      <td>79838.000000</td>\n",
       "    </tr>\n",
       "    <tr>\n",
       "      <th>25%</th>\n",
       "      <td>63375.500000</td>\n",
       "      <td>92097.500000</td>\n",
       "    </tr>\n",
       "    <tr>\n",
       "      <th>50%</th>\n",
       "      <td>70912.000000</td>\n",
       "      <td>94710.000000</td>\n",
       "    </tr>\n",
       "    <tr>\n",
       "      <th>75%</th>\n",
       "      <td>85967.500000</td>\n",
       "      <td>104867.000000</td>\n",
       "    </tr>\n",
       "    <tr>\n",
       "      <th>max</th>\n",
       "      <td>100541.000000</td>\n",
       "      <td>145732.000000</td>\n",
       "    </tr>\n",
       "  </tbody>\n",
       "</table>\n",
       "</div>"
      ],
      "text/plain": [
       "      weighted_median_grad_salary mean_prof_salary\n",
       "count                   31.000000        31.000000\n",
       "mean                 73320.451613    100132.032258\n",
       "std                  14081.149252     13945.568659\n",
       "min                  48000.000000     79838.000000\n",
       "25%                  63375.500000     92097.500000\n",
       "50%                  70912.000000     94710.000000\n",
       "75%                  85967.500000    104867.000000\n",
       "max                 100541.000000    145732.000000"
      ]
     },
     "execution_count": 50,
     "metadata": {},
     "output_type": "execute_result"
    }
   ],
   "source": [
    "df_comparison.describe()"
   ]
  },
  {
   "cell_type": "code",
   "execution_count": 51,
   "metadata": {},
   "outputs": [],
   "source": [
    "import statsmodels.api as sm"
   ]
  },
  {
   "cell_type": "markdown",
   "metadata": {},
   "source": [
    "First, let's look at a linear regression:"
   ]
  },
  {
   "cell_type": "code",
   "execution_count": 52,
   "metadata": {
    "scrolled": false
   },
   "outputs": [
    {
     "data": {
      "text/html": [
       "<table class=\"simpletable\">\n",
       "<caption>OLS Regression Results</caption>\n",
       "<tr>\n",
       "  <th>Dep. Variable:</th>    <td>('mean_prof_salary',)</td> <th>  R-squared:         </th> <td>   0.267</td>\n",
       "</tr>\n",
       "<tr>\n",
       "  <th>Model:</th>                     <td>OLS</td>          <th>  Adj. R-squared:    </th> <td>   0.242</td>\n",
       "</tr>\n",
       "<tr>\n",
       "  <th>Method:</th>               <td>Least Squares</td>     <th>  F-statistic:       </th> <td>   10.58</td>\n",
       "</tr>\n",
       "<tr>\n",
       "  <th>Date:</th>               <td>Sat, 22 Jun 2019</td>    <th>  Prob (F-statistic):</th>  <td>0.00290</td>\n",
       "</tr>\n",
       "<tr>\n",
       "  <th>Time:</th>                   <td>18:03:10</td>        <th>  Log-Likelihood:    </th> <td> -334.49</td>\n",
       "</tr>\n",
       "<tr>\n",
       "  <th>No. Observations:</th>        <td>    31</td>         <th>  AIC:               </th> <td>   673.0</td>\n",
       "</tr>\n",
       "<tr>\n",
       "  <th>Df Residuals:</th>            <td>    29</td>         <th>  BIC:               </th> <td>   675.8</td>\n",
       "</tr>\n",
       "<tr>\n",
       "  <th>Df Model:</th>                <td>     1</td>         <th>                     </th>     <td> </td>   \n",
       "</tr>\n",
       "<tr>\n",
       "  <th>Covariance Type:</th>        <td>nonrobust</td>       <th>                     </th>     <td> </td>   \n",
       "</tr>\n",
       "</table>\n",
       "<table class=\"simpletable\">\n",
       "<tr>\n",
       "                  <td></td>                    <th>coef</th>     <th>std err</th>      <th>t</th>      <th>P>|t|</th>  <th>[0.025</th>    <th>0.975]</th>  \n",
       "</tr>\n",
       "<tr>\n",
       "  <th>const</th>                            <td> 6.259e+04</td> <td> 1.17e+04</td> <td>    5.329</td> <td> 0.000</td> <td> 3.86e+04</td> <td> 8.66e+04</td>\n",
       "</tr>\n",
       "<tr>\n",
       "  <th>('weighted_median_grad_salary',)</th> <td>    0.5120</td> <td>    0.157</td> <td>    3.252</td> <td> 0.003</td> <td>    0.190</td> <td>    0.834</td>\n",
       "</tr>\n",
       "</table>\n",
       "<table class=\"simpletable\">\n",
       "<tr>\n",
       "  <th>Omnibus:</th>       <td>23.726</td> <th>  Durbin-Watson:     </th> <td>   2.375</td>\n",
       "</tr>\n",
       "<tr>\n",
       "  <th>Prob(Omnibus):</th> <td> 0.000</td> <th>  Jarque-Bera (JB):  </th> <td>  41.321</td>\n",
       "</tr>\n",
       "<tr>\n",
       "  <th>Skew:</th>          <td> 1.768</td> <th>  Prob(JB):          </th> <td>1.06e-09</td>\n",
       "</tr>\n",
       "<tr>\n",
       "  <th>Kurtosis:</th>      <td> 7.415</td> <th>  Cond. No.          </th> <td>4.02e+05</td>\n",
       "</tr>\n",
       "</table><br/><br/>Warnings:<br/>[1] Standard Errors assume that the covariance matrix of the errors is correctly specified.<br/>[2] The condition number is large, 4.02e+05. This might indicate that there are<br/>strong multicollinearity or other numerical problems."
      ],
      "text/plain": [
       "<class 'statsmodels.iolib.summary.Summary'>\n",
       "\"\"\"\n",
       "                              OLS Regression Results                             \n",
       "=================================================================================\n",
       "Dep. Variable:     ('mean_prof_salary',)   R-squared:                       0.267\n",
       "Model:                               OLS   Adj. R-squared:                  0.242\n",
       "Method:                    Least Squares   F-statistic:                     10.58\n",
       "Date:                   Sat, 22 Jun 2019   Prob (F-statistic):            0.00290\n",
       "Time:                           18:03:10   Log-Likelihood:                -334.49\n",
       "No. Observations:                     31   AIC:                             673.0\n",
       "Df Residuals:                         29   BIC:                             675.8\n",
       "Df Model:                              1                                         \n",
       "Covariance Type:               nonrobust                                         \n",
       "====================================================================================================\n",
       "                                       coef    std err          t      P>|t|      [0.025      0.975]\n",
       "----------------------------------------------------------------------------------------------------\n",
       "const                             6.259e+04   1.17e+04      5.329      0.000    3.86e+04    8.66e+04\n",
       "('weighted_median_grad_salary',)     0.5120      0.157      3.252      0.003       0.190       0.834\n",
       "==============================================================================\n",
       "Omnibus:                       23.726   Durbin-Watson:                   2.375\n",
       "Prob(Omnibus):                  0.000   Jarque-Bera (JB):               41.321\n",
       "Skew:                           1.768   Prob(JB):                     1.06e-09\n",
       "Kurtosis:                       7.415   Cond. No.                     4.02e+05\n",
       "==============================================================================\n",
       "\n",
       "Warnings:\n",
       "[1] Standard Errors assume that the covariance matrix of the errors is correctly specified.\n",
       "[2] The condition number is large, 4.02e+05. This might indicate that there are\n",
       "strong multicollinearity or other numerical problems.\n",
       "\"\"\""
      ]
     },
     "execution_count": 52,
     "metadata": {},
     "output_type": "execute_result"
    }
   ],
   "source": [
    "X=df_comparison['weighted_median_grad_salary']\n",
    "X1=sm.add_constant(X)\n",
    "Y=df_comparison['mean_prof_salary']\n",
    "model = sm.OLS(Y,X1).fit()\n",
    "model.summary()"
   ]
  },
  {
   "cell_type": "code",
   "execution_count": 53,
   "metadata": {},
   "outputs": [],
   "source": [
    "import matplotlib.pyplot as plt\n",
    "import numpy as np\n",
    "from sklearn import linear_model"
   ]
  },
  {
   "cell_type": "markdown",
   "metadata": {},
   "source": [
    "Here is a plot of that regression:"
   ]
  },
  {
   "cell_type": "code",
   "execution_count": 54,
   "metadata": {},
   "outputs": [
    {
     "data": {
      "image/png": "[encoded data removed]",
      "text/plain": [
       "<Figure size 432x288 with 1 Axes>"
      ]
     },
     "metadata": {
      "needs_background": "light"
     },
     "output_type": "display_data"
    }
   ],
   "source": [
    "X=np.array(df_comparison['weighted_median_grad_salary'])\n",
    "Y=np.array(df_comparison['mean_prof_salary'])\n",
    "pay_model=linear_model.LinearRegression()\n",
    "pay_model.fit(X,Y)\n",
    "prediction=pay_model.predict(np.sort(X, axis=0))\n",
    "\n",
    "plt.scatter(X, Y)\n",
    "plt.plot(np.sort(X, axis=0),prediction)\n",
    "plt.show()"
   ]
  },
  {
   "cell_type": "markdown",
   "metadata": {},
   "source": [
    "The slope is less than 1, so increases in graduate salaries do not drive commensurate increases in professor pay. However, we wish to know whether they <i>rank</i> them in the same order. So we calculate Spearman's rank coefficient. The advantage here is that it only looks for monotonic relationships between the salaries, so it ignores a lot of the nonlinearity that may come from considering people at different points in different careers."
   ]
  },
  {
   "cell_type": "code",
   "execution_count": 55,
   "metadata": {},
   "outputs": [
    {
     "data": {
      "text/html": [
       "<div>\n",
       "<style scoped>\n",
       "    .dataframe tbody tr th:only-of-type {\n",
       "        vertical-align: middle;\n",
       "    }\n",
       "\n",
       "    .dataframe tbody tr th {\n",
       "        vertical-align: top;\n",
       "    }\n",
       "\n",
       "    .dataframe thead tr th {\n",
       "        text-align: left;\n",
       "    }\n",
       "</style>\n",
       "<table border=\"1\" class=\"dataframe\">\n",
       "  <thead>\n",
       "    <tr>\n",
       "      <th></th>\n",
       "      <th>weighted_median_grad_salary</th>\n",
       "      <th>mean_prof_salary</th>\n",
       "    </tr>\n",
       "  </thead>\n",
       "  <tbody>\n",
       "    <tr>\n",
       "      <th>weighted_median_grad_salary</th>\n",
       "      <td>1.000000</td>\n",
       "      <td>0.603226</td>\n",
       "    </tr>\n",
       "    <tr>\n",
       "      <th>mean_prof_salary</th>\n",
       "      <td>0.603226</td>\n",
       "      <td>1.000000</td>\n",
       "    </tr>\n",
       "  </tbody>\n",
       "</table>\n",
       "</div>"
      ],
      "text/plain": [
       "                            weighted_median_grad_salary mean_prof_salary\n",
       "weighted_median_grad_salary                    1.000000         0.603226\n",
       "mean_prof_salary                               0.603226         1.000000"
      ]
     },
     "execution_count": 55,
     "metadata": {},
     "output_type": "execute_result"
    }
   ],
   "source": [
    "df_comparison.corr(method='spearman')"
   ]
  },
  {
   "cell_type": "markdown",
   "metadata": {},
   "source": [
    "This gives an $R^2$ correlation coefficient of"
   ]
  },
  {
   "cell_type": "code",
   "execution_count": 56,
   "metadata": {},
   "outputs": [
    {
     "data": {
      "text/plain": [
       "0.36388160707600004"
      ]
     },
     "execution_count": 56,
     "metadata": {},
     "output_type": "execute_result"
    }
   ],
   "source": [
    "0.603226**2"
   ]
  },
  {
   "cell_type": "markdown",
   "metadata": {},
   "source": [
    "which is rather low, if we were expecting the academy to respond to the same demands as the broader job market. We conclude that academic pay ranking is not explained well by graduate job market pay ranking."
   ]
  },
  {
   "cell_type": "markdown",
   "metadata": {},
   "source": [
    "Now, how robust is this number? Can we conclude anything from this? Well, it is worth comparing pay in academia versus in industry, as chances are one is potentially more lucrative than the other."
   ]
  },
  {
   "cell_type": "markdown",
   "metadata": {},
   "source": [
    "We will now perform a Wilcoxon signed-rank test on the predicted Mean Professor Salary versus the observered Mean Professor Salary. This will test if the populations have the same distribution, i.e. if their paired differences follow a (roughly normal) symmetric distribution. Specifically, it will output a $p$-value giveing the probability of the previous statement."
   ]
  },
  {
   "cell_type": "code",
   "execution_count": 57,
   "metadata": {},
   "outputs": [],
   "source": [
    "from scipy import stats"
   ]
  },
  {
   "cell_type": "markdown",
   "metadata": {},
   "source": [
    "A bit more data cleaning (we are adding the predicted Professor Salary into our dataframe):"
   ]
  },
  {
   "cell_type": "code",
   "execution_count": 58,
   "metadata": {},
   "outputs": [],
   "source": [
    "L=sorted(comparison_list, key = lambda x:x[1])\n",
    "predict_prof_list=[[L[i][0],round(float(prediction[i]))] for i in range(31)]\n",
    "predict_prof_list.sort(key= lambda x:x[0])"
   ]
  },
  {
   "cell_type": "code",
   "execution_count": 59,
   "metadata": {},
   "outputs": [],
   "source": [
    "df_comparison['predicted_prof_salary']=list(map(lambda x:x[1],predict_prof_list))"
   ]
  },
  {
   "cell_type": "code",
   "execution_count": 60,
   "metadata": {},
   "outputs": [
    {
     "data": {
      "text/html": [
       "<div>\n",
       "<style scoped>\n",
       "    .dataframe tbody tr th:only-of-type {\n",
       "        vertical-align: middle;\n",
       "    }\n",
       "\n",
       "    .dataframe tbody tr th {\n",
       "        vertical-align: top;\n",
       "    }\n",
       "\n",
       "    .dataframe thead tr th {\n",
       "        text-align: left;\n",
       "    }\n",
       "</style>\n",
       "<table border=\"1\" class=\"dataframe\">\n",
       "  <thead>\n",
       "    <tr>\n",
       "      <th></th>\n",
       "      <th>weighted_median_grad_salary</th>\n",
       "      <th>mean_prof_salary</th>\n",
       "      <th>predicted_prof_salary</th>\n",
       "    </tr>\n",
       "  </thead>\n",
       "  <tbody>\n",
       "    <tr>\n",
       "      <th>count</th>\n",
       "      <td>31.000000</td>\n",
       "      <td>31.000000</td>\n",
       "      <td>31.000000</td>\n",
       "    </tr>\n",
       "    <tr>\n",
       "      <th>mean</th>\n",
       "      <td>73320.451613</td>\n",
       "      <td>100132.032258</td>\n",
       "      <td>100132.000000</td>\n",
       "    </tr>\n",
       "    <tr>\n",
       "      <th>std</th>\n",
       "      <td>14081.149252</td>\n",
       "      <td>13945.568659</td>\n",
       "      <td>7208.978106</td>\n",
       "    </tr>\n",
       "    <tr>\n",
       "      <th>min</th>\n",
       "      <td>48000.000000</td>\n",
       "      <td>79838.000000</td>\n",
       "      <td>87169.000000</td>\n",
       "    </tr>\n",
       "    <tr>\n",
       "      <th>25%</th>\n",
       "      <td>63375.500000</td>\n",
       "      <td>92097.500000</td>\n",
       "      <td>95040.500000</td>\n",
       "    </tr>\n",
       "    <tr>\n",
       "      <th>50%</th>\n",
       "      <td>70912.000000</td>\n",
       "      <td>94710.000000</td>\n",
       "      <td>98899.000000</td>\n",
       "    </tr>\n",
       "    <tr>\n",
       "      <th>75%</th>\n",
       "      <td>85967.500000</td>\n",
       "      <td>104867.000000</td>\n",
       "      <td>106606.500000</td>\n",
       "    </tr>\n",
       "    <tr>\n",
       "      <th>max</th>\n",
       "      <td>100541.000000</td>\n",
       "      <td>145732.000000</td>\n",
       "      <td>114068.000000</td>\n",
       "    </tr>\n",
       "  </tbody>\n",
       "</table>\n",
       "</div>"
      ],
      "text/plain": [
       "      weighted_median_grad_salary mean_prof_salary predicted_prof_salary\n",
       "count                   31.000000        31.000000             31.000000\n",
       "mean                 73320.451613    100132.032258         100132.000000\n",
       "std                  14081.149252     13945.568659           7208.978106\n",
       "min                  48000.000000     79838.000000          87169.000000\n",
       "25%                  63375.500000     92097.500000          95040.500000\n",
       "50%                  70912.000000     94710.000000          98899.000000\n",
       "75%                  85967.500000    104867.000000         106606.500000\n",
       "max                 100541.000000    145732.000000         114068.000000"
      ]
     },
     "execution_count": 60,
     "metadata": {},
     "output_type": "execute_result"
    }
   ],
   "source": [
    "df_comparison.describe()"
   ]
  },
  {
   "cell_type": "markdown",
   "metadata": {},
   "source": [
    "It looks like it worked. Now we apply the Wilcoxon test to the rightmost two columns. First, we turn them into lists so scipy can do its thing:"
   ]
  },
  {
   "cell_type": "code",
   "execution_count": 61,
   "metadata": {},
   "outputs": [],
   "source": [
    "L_obs=list(map(float,df_comparison['mean_prof_salary'].values))\n",
    "L_pred=list(map(lambda x:x[1],predict_prof_list))"
   ]
  },
  {
   "cell_type": "code",
   "execution_count": 62,
   "metadata": {},
   "outputs": [
    {
     "data": {
      "text/plain": [
       "WilcoxonResult(statistic=211.0, pvalue=0.46840775868536677)"
      ]
     },
     "execution_count": 62,
     "metadata": {},
     "output_type": "execute_result"
    }
   ],
   "source": [
    "stats.wilcoxon(L_pred,L_obs)"
   ]
  },
  {
   "cell_type": "markdown",
   "metadata": {},
   "source": [
    "This is not very helpful. It says that, based on our data, the probability that overall industry salaries are distributed similarly to salaries in academia is about $47\\%$. The test would probably be more conclusive if we examined each subject individually, since some of the differences in ranking are large, while others are small. The ones with large difference are possibly where there is significant difference in distribution."
   ]
  },
  {
   "cell_type": "markdown",
   "metadata": {},
   "source": [
    "Now, which ones are those? Well, we can look at the list of differences, sort them by size and find out."
   ]
  },
  {
   "cell_type": "code",
   "execution_count": 63,
   "metadata": {},
   "outputs": [],
   "source": [
    "diff_list=[[c[0],sorted(comparison_list,key=lambda x:x[1]).index(c)-sorted(comparison_list,key=lambda x:x[2]).index(c)] for c in comparison_list]"
   ]
  },
  {
   "cell_type": "code",
   "execution_count": 64,
   "metadata": {},
   "outputs": [],
   "source": [
    "diff_list.sort(key=lambda x:x[1],reverse=True)"
   ]
  },
  {
   "cell_type": "code",
   "execution_count": 65,
   "metadata": {
    "scrolled": true
   },
   "outputs": [
    {
     "data": {
      "text/plain": [
       "[['HISTORY GENERAL', 14],\n",
       " ['LIBERAL ARTS AND SCIENCES, GENERAL STUDIES AND HUMANITIES', 13],\n",
       " ['PHYSICAL SCIENCES', 13],\n",
       " ['MATHEMATICS AND STATISTICS', 11],\n",
       " ['TRANSPORTATION AND MATERIAL SERVICES', 11],\n",
       " ['ENGLISH LANGUAGE AND LITERATURE/LETTERS', 10],\n",
       " ['HOMELAND SECURITY, LAW ENFORCEMENT, FIREFIGHTING AND RELATED PROTECTIVE SERVICE',\n",
       "  7],\n",
       " ['BIOLOGICAL AND BIOMEDICAL SCIENCES', 6],\n",
       " ['NATURAL RESOURCES AND CONSERVATION', 4],\n",
       " ['VISUAL AND PERFORMING ARTS', 4],\n",
       " ['PARKS, RECREATION, LEISURE AND FITNESS STUDIES', 3],\n",
       " ['COMMUNICATION, JOURNALISM AND RELATED PROGRAMS', 2],\n",
       " ['ENGINEERING', 2],\n",
       " ['FOREIGN LANGUAGES, LITERATURES, AND LINGUISTICS', 1],\n",
       " ['COMPUTER AND INFORMATION SCIENCES AND SUPPORT SERVICES', 0],\n",
       " ['MULTI/INTERDISCIPLINARY STUDIES', 0],\n",
       " ['PHILOSOPHY AND RELIGIOUS STUDIES', 0],\n",
       " ['THEOLOGY AND RELIGIOUS VOCATIONS', 0],\n",
       " ['LIBRARY SCIENCE', -2],\n",
       " ['BUSINESS, MANAGEMENT, MARKETING, AND RELATED SUPPORT SERVICES', -4],\n",
       " ['HEALTH PROFESSIONS AND RELATED PROGRAMS', -4],\n",
       " ['PSYCHOLOGY', -5],\n",
       " ['SOCIAL SCIENCES', -6],\n",
       " ['AGRICULTURE, AGRICULTURE OPERATIONS, AND RELATED SCIENCES', -7],\n",
       " ['AREA, ETHNIC, CULTURAL, GENDER AND GROUP STUDIES', -7],\n",
       " ['EDUCATION', -7],\n",
       " ['ARCHITECTURE AND RELATED SERVICES', -10],\n",
       " ['COMMUNICATIONS TECHNOLOGIES/TECHNICIANS AND SUPPORT SERVICES', -10],\n",
       " ['LEGAL PROFESSIONS AND STUDIES', -12],\n",
       " ['PUBLIC ADMINISTRATION AND SOCIAL SERVICE PROFESSIONS', -12],\n",
       " ['FAMILY AND CONSUMER SCIENCES/HUMAN SCIENCES', -15]]"
      ]
     },
     "execution_count": 65,
     "metadata": {},
     "output_type": "execute_result"
    }
   ],
   "source": [
    "diff_list"
   ]
  },
  {
   "cell_type": "markdown",
   "metadata": {},
   "source": [
    "So our data suggest that historians, humanities graduates, physicists and mathematicians are underpaid as professors relative to the rest of the job market, whereas the (seemingly more vocational) degree holders near the bottom of the list are not. "
   ]
  }
 ],
 "metadata": {
  "kernelspec": {
   "display_name": "Python 3",
   "language": "python",
   "name": "python3"
  },
  "language_info": {
   "codemirror_mode": {
    "name": "ipython",
    "version": 3
   },
   "file_extension": ".py",
   "mimetype": "text/x-python",
   "name": "python",
   "nbconvert_exporter": "python",
   "pygments_lexer": "ipython3",
   "version": "3.7.1"
  }
 },
 "nbformat": 4,
 "nbformat_minor": 2
}
